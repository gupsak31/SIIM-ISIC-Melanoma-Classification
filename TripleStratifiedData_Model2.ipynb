{
  "nbformat": 4,
  "nbformat_minor": 0,
  "metadata": {
    "kernelspec": {
      "name": "python3",
      "display_name": "Python 3",
      "language": "python"
    },
    "language_info": {
      "name": "python",
      "version": "3.7.6",
      "mimetype": "text/x-python",
      "codemirror_mode": {
        "name": "ipython",
        "version": 3
      },
      "pygments_lexer": "ipython3",
      "nbconvert_exporter": "python",
      "file_extension": ".py"
    },
    "colab": {
      "name": "TripleStratifiedData_Model2.ipynb",
      "provenance": [],
      "collapsed_sections": []
    },
    "accelerator": "TPU"
  },
  "cells": [
    {
      "cell_type": "code",
      "metadata": {
        "_uuid": "8f2839f25d086af736a60e9eeb907d3b93b6e0e5",
        "_cell_guid": "b1076dfc-b9ad-4769-8c92-a6c4dae69d19",
        "trusted": true,
        "id": "nUPzejQ91yMJ"
      },
      "source": [
        "import numpy as np\n",
        "import pandas as pd\n",
        "\n",
        "import os\n",
        "import re\n",
        "import math\n",
        "import random\n",
        "\n",
        "import matplotlib as mpl\n",
        "import matplotlib.pyplot as plt\n",
        "\n",
        "import tensorflow as tf\n",
        "import tensorflow_addons as tfa\n",
        "import tensorflow.keras.layers as L\n",
        "\n",
        "from sklearn.model_selection import KFold"
      ],
      "execution_count": null,
      "outputs": []
    },
    {
      "cell_type": "code",
      "metadata": {
        "trusted": true,
        "id": "Y00JheoE1yMT",
        "colab": {
          "base_uri": "https://localhost:8080/",
          "height": 35
        },
        "outputId": "e885d7c3-13fc-4843-839c-be8e4532d4dd"
      },
      "source": [
        "!pip install -q efficientnet\n",
        "import efficientnet.tfkeras as efn"
      ],
      "execution_count": null,
      "outputs": [
        {
          "output_type": "stream",
          "text": [
            "\u001b[?25l\r\u001b[K     |██████▌                         | 10kB 26.1MB/s eta 0:00:01\r\u001b[K     |█████████████                   | 20kB 14.7MB/s eta 0:00:01\r\u001b[K     |███████████████████▍            | 30kB 3.3MB/s eta 0:00:01\r\u001b[K     |█████████████████████████▉      | 40kB 4.0MB/s eta 0:00:01\r\u001b[K     |████████████████████████████████| 51kB 2.7MB/s \n",
            "\u001b[?25h"
          ],
          "name": "stdout"
        }
      ]
    },
    {
      "cell_type": "code",
      "metadata": {
        "id": "U02yJE_W18lS",
        "colab": {
          "base_uri": "https://localhost:8080/",
          "height": 124
        },
        "outputId": "08669d4f-3027-41c3-d692-3321bd4186a6"
      },
      "source": [
        "from google.colab import drive\n",
        "drive.mount('/content/gdrive')"
      ],
      "execution_count": null,
      "outputs": [
        {
          "output_type": "stream",
          "text": [
            "Go to this URL in a browser: https://accounts.google.com/o/oauth2/auth?client_id=947318989803-6bn6qk8qdgf4n4g3pfee6491hc0brc4i.apps.googleusercontent.com&redirect_uri=urn%3aietf%3awg%3aoauth%3a2.0%3aoob&response_type=code&scope=email%20https%3a%2f%2fwww.googleapis.com%2fauth%2fdocs.test%20https%3a%2f%2fwww.googleapis.com%2fauth%2fdrive%20https%3a%2f%2fwww.googleapis.com%2fauth%2fdrive.photos.readonly%20https%3a%2f%2fwww.googleapis.com%2fauth%2fpeopleapi.readonly\n",
            "\n",
            "Enter your authorization code:\n",
            "··········\n",
            "Mounted at /content/gdrive\n"
          ],
          "name": "stdout"
        }
      ]
    },
    {
      "cell_type": "code",
      "metadata": {
        "trusted": true,
        "id": "0OhGxSLc1yMi"
      },
      "source": [
        "try:\n",
        "    # TPU detection. No parameters necessary if TPU_NAME environment variable is\n",
        "    # set: this is always the case on Kaggle.\n",
        "    tpu = tf.distribute.cluster_resolver.TPUClusterResolver()\n",
        "    print('Running on TPU ', tpu.master())\n",
        "except ValueError:\n",
        "    tpu = None\n",
        "\n",
        "if tpu:\n",
        "    tf.config.experimental_connect_to_cluster(tpu)\n",
        "    tf.tpu.experimental.initialize_tpu_system(tpu)\n",
        "    strategy = tf.distribute.experimental.TPUStrategy(tpu)\n",
        "else:\n",
        "    # Default distribution strategy in Tensorflow. Works on CPU and single GPU.\n",
        "    strategy = tf.distribute.get_strategy()\n",
        "\n",
        "print(\"REPLICAS: \", strategy.num_replicas_in_sync)\n",
        "REPLICAS = strategy.num_replicas_in_sync"
      ],
      "execution_count": null,
      "outputs": []
    },
    {
      "cell_type": "code",
      "metadata": {
        "trusted": true,
        "id": "YvMbbX051yMr"
      },
      "source": [
        "INC2019 = 0\n",
        "INC2018 = 1\n",
        "EXTA = 0\n",
        "\n",
        "DIM = 256\n",
        "IMAGE_SIZE= [DIM, DIM]\n",
        "\n",
        "_epoches = [10, 20, 30, 40]\n",
        "_initial_epoch = [0, 10, 20, 30]\n",
        "\n",
        "TTA = 25\n",
        "\n",
        "BATCH_SIZE = 16*strategy.num_replicas_in_sync\n",
        "\n",
        "FOLDS = 5\n",
        "idxT = []; idxV = []\n",
        "LEN = np.arange(15)\n",
        "\n",
        "SEED = 1000\n",
        "AUTO = tf.data.experimental.AUTOTUNE\n",
        "WEIGHTS = 'noisy-student'\n",
        "\n",
        "effnet = [efn.EfficientNetB0, efn.EfficientNetB1, efn.EfficientNetB2, efn.EfficientNetB3, efn.EfficientNetB4, efn.EfficientNetB5,\n",
        "          efn.EfficientNetB6, efn.EfficientNetB7]"
      ],
      "execution_count": null,
      "outputs": []
    },
    {
      "cell_type": "code",
      "metadata": {
        "trusted": true,
        "id": "wn5Nle7D1yM6"
      },
      "source": [
        "GCS_PATH1 = 'gs://kds-dffc4fc041639d63f5cb739622149422dbd485d2bd7f66a514c67fae'\n",
        "GCS_PATH2 = 'gs://kds-c85f3ec67d1d7853bb9f2b928a1d69ac62ae7d52146c54a65b69f5bb'\n",
        "#GCS_PATH3 = 'gs://kds-d865e7070f63d0bbb2fe08d16db2b817cd02fc99a1eae9b2dc345ac0'"
      ],
      "execution_count": null,
      "outputs": []
    },
    {
      "cell_type": "code",
      "metadata": {
        "trusted": true,
        "id": "9xqlw8hs1yNH"
      },
      "source": [
        "train_1 = pd.read_csv('/content/gdrive/My Drive/kaggle/jpeg-melanoma-768x768/train.csv')\n",
        "train_2 = pd.read_csv('/content/gdrive/My Drive/kaggle/jpeg-isic2019-768x768/train.csv')\n",
        "#train_3 = pd.read_csv('/content/gdrive/My Drive/kaggle/siim-tabulardata/datasets_791638_1362855_train_malig_2.csv')\n",
        "\n",
        "train = pd.DataFrame(pd.concat([train_1, train_2]))\n",
        "Y = pd.DataFrame(pd.concat([train_1.target, train_2.target]))"
      ],
      "execution_count": null,
      "outputs": []
    },
    {
      "cell_type": "code",
      "metadata": {
        "trusted": true,
        "id": "DQPbdmFw1yNP"
      },
      "source": [
        "mean = train.age_approx.mean()\n",
        "std = train.age_approx.std()"
      ],
      "execution_count": null,
      "outputs": []
    },
    {
      "cell_type": "code",
      "metadata": {
        "trusted": true,
        "id": "pprnyiTh1yNS"
      },
      "source": [
        "def prepare_image(data, augment = False):\n",
        "    image = data['CNN_inp']\n",
        "    \n",
        "    image = tf.image.decode_jpeg(image, channels = 3)\n",
        "    image = tf.cast(image, tf.float32)/255.0\n",
        "    image = tf.reshape(image, [*IMAGE_SIZE, 3]) # explicit size needed for TPU\n",
        "    \n",
        "    if augment:\n",
        "        image = transform(image)\n",
        "        image = tf.image.random_flip_left_right(image)\n",
        "        image = tf.image.random_flip_up_down(image)\n",
        "        image = tf.image.random_saturation(image, 0.8, 1.2)\n",
        "        image = tf.image.random_contrast(image, 0.8, 1.2)\n",
        "        image = tf.image.random_brightness(image, 0.1)\n",
        "    \n",
        "    data['CNN_inp'] = image\n",
        "    return data"
      ],
      "execution_count": null,
      "outputs": []
    },
    {
      "cell_type": "code",
      "metadata": {
        "trusted": true,
        "id": "dEbiguaD1yNW"
      },
      "source": [
        "tab_feats = [\n",
        "    'sex',\n",
        "    'age_approx',\n",
        "]\n",
        "\n",
        "N_TAB_FEATS = len(tab_feats)\n",
        "\n",
        "def setup_input(image, label, data):\n",
        "    tab_data = [tf.cast(data[tfeat], dtype = tf.float32) for tfeat in tab_feats]\n",
        "    tabular = tf.stack(tab_data)\n",
        "    return {'CNN_inp': image, 'TAB_inp':  tabular}, label\n",
        "\n",
        "def setup_test_image(image, image_name, data):    \n",
        "    tab_data = [tf.cast(data[tfeat], dtype = tf.float32) for tfeat in tab_feats]\n",
        "    tabular = tf.stack(tab_data)\n",
        "    return {'CNN_inp': image, 'TAB_inp':  tabular}, image_name\n",
        "\n",
        "def count_data_items(filenames):\n",
        "    # the number of data items is written in the name of the .tfrec files\n",
        "    n = [int(re.compile(r\"-([0-9]*)\\.\").search(filename).group(1)) for filename in filenames]\n",
        "    return np.sum(n)"
      ],
      "execution_count": null,
      "outputs": []
    },
    {
      "cell_type": "code",
      "metadata": {
        "trusted": true,
        "id": "Xn7m51iS1yNb"
      },
      "source": [
        "def read_labeled_tfrecord(example):\n",
        "    LABELED_TFREC_FORMAT = {\n",
        "        \"image\": tf.io.FixedLenFeature([], tf.string), # tf.string means bytestring\n",
        "        \"image_name\": tf.io.FixedLenFeature([], tf.string), # shape [] means single element\n",
        "        \"sex\": tf.io.FixedLenFeature([], tf.int64),\n",
        "        \"age_approx\": tf.io.FixedLenFeature([], tf.int64),\n",
        "        \"target\": tf.io.FixedLenFeature([], tf.int64),  \n",
        "    }\n",
        "    \n",
        "    example = tf.io.parse_single_example(example, LABELED_TFREC_FORMAT)\n",
        "    \n",
        "    image = example['image']\n",
        "    label = tf.cast(example['target'], tf.float32)\n",
        "    \n",
        "    data = {}\n",
        "    data['image_name'] = example['image_name']\n",
        "    data['sex'] = tf.cast(example['sex'], tf.int64)\n",
        "    data['age_approx'] = (tf.cast(example['age_approx'], tf.float32) - mean)/std\n",
        "    \n",
        "    return image, label, data"
      ],
      "execution_count": null,
      "outputs": []
    },
    {
      "cell_type": "code",
      "metadata": {
        "trusted": true,
        "id": "qQeFt5z41yNh"
      },
      "source": [
        "def read_unlabeled_tfrecord(example):\n",
        "    UNLABELED_TFREC_FORMAT = {\n",
        "        \"image\": tf.io.FixedLenFeature([], tf.string), # tf.string means bytestring\n",
        "        \"image_name\": tf.io.FixedLenFeature([], tf.string),  # shape [] means single element\n",
        "        \"sex\": tf.io.FixedLenFeature([], tf.int64),\n",
        "        \"age_approx\": tf.io.FixedLenFeature([], tf.int64),\n",
        "    }\n",
        "    \n",
        "    example = tf.io.parse_single_example(example, UNLABELED_TFREC_FORMAT)\n",
        "    \n",
        "    image = example['image']\n",
        "    image_name = example['image_name']\n",
        "    \n",
        "    data = {}\n",
        "    data['image_name'] = image_name\n",
        "    data['sex'] = tf.cast(example['sex'], tf.int64)\n",
        "    data['age_approx'] = (tf.cast(example['age_approx'], tf.float32) - mean)/std\n",
        "    \n",
        "    return image, image_name, data"
      ],
      "execution_count": null,
      "outputs": []
    },
    {
      "cell_type": "code",
      "metadata": {
        "trusted": true,
        "id": "Z3OJxPFh1yNn"
      },
      "source": [
        "def get_dataset(files, augmented = False, shuffle = False, repeat = False, labeled = False):\n",
        "    \n",
        "    dataset = tf.data.TFRecordDataset(files, num_parallel_reads = AUTO)\n",
        "    dataset = dataset.cache()\n",
        "    \n",
        "    if repeat:\n",
        "        dataset = dataset.repeat()\n",
        "        \n",
        "    if shuffle: \n",
        "        dataset = dataset.shuffle(1024)\n",
        "        opt = tf.data.Options()\n",
        "        opt.experimental_deterministic = False\n",
        "        dataset = dataset.with_options(opt)\n",
        "    \n",
        "    if labeled:\n",
        "        dataset = dataset.map(read_labeled_tfrecord, num_parallel_calls = AUTO)\n",
        "        dataset = dataset.map(setup_input, num_parallel_calls = AUTO)\n",
        "    else:\n",
        "        dataset = dataset.map(read_unlabeled_tfrecord, num_parallel_calls = AUTO)\n",
        "        dataset = dataset.map(setup_test_image, num_parallel_calls = AUTO)\n",
        "    \n",
        "    dataset = dataset.map(lambda data, imagename_or_label : (prepare_image(data, augment = augmented), imagename_or_label),\n",
        "                          num_parallel_calls = AUTO)\n",
        "    \n",
        "    dataset = dataset.batch(BATCH_SIZE)\n",
        "    dataset = dataset.prefetch(AUTO)\n",
        "    \n",
        "    return dataset"
      ],
      "execution_count": null,
      "outputs": []
    },
    {
      "cell_type": "code",
      "metadata": {
        "trusted": true,
        "id": "u6FzLnZJ1yNv"
      },
      "source": [
        "####variables to set extent of image augmentation.\n",
        "ROT_ = 90.0\n",
        "HZOOM_ = 4.0\n",
        "WZOOM_ = 4.0\n",
        "HSHIFT_ = 4.0\n",
        "WSHIFT_ = 4.0\n",
        "\n",
        "def get_mat(rotation, height_zoom, width_zoom, height_shift, width_shift):\n",
        "    # returns 3x3 transformmatrix which transforms indicies\n",
        "\n",
        "    def get_3x3_mat(mat):\n",
        "        return tf.reshape(tf.concat([mat], axis = 0), [3, 3])\n",
        "    \n",
        "    # ROTATION MATRIX\n",
        "    cos = tf.math.cos(rotation)\n",
        "    sin = tf.math.sin(rotation)\n",
        "    one = tf.constant([1], dtype = 'float32')\n",
        "    zero = tf.constant([0], dtype = 'float32')\n",
        "    \n",
        "    rotation_matrix = get_3x3_mat([cos, sin ,zero,\n",
        "                                   -sin, cos, zero,\n",
        "                                   zero, zero, one])        \n",
        "           \n",
        "    # ZOOM MATRIX\n",
        "    zoom_matrix = get_3x3_mat([one/height_zoom, zero, zero,\n",
        "                               zero, one/width_zoom, zero, \n",
        "                               zero, zero, one])    \n",
        "    # SHIFT MATRIX\n",
        "    shift_matrix = get_3x3_mat([one, zero, height_shift, \n",
        "                                zero, one, width_shift, \n",
        "                                zero, zero, one])\n",
        "    \n",
        "    return tf.keras.backend.dot(rotation_matrix, tf.keras.backend.dot(zoom_matrix, shift_matrix))\n",
        "\n",
        "def transform(image):\n",
        "    XDIM = DIM%2\n",
        "    \n",
        "    rot = ROT_*tf.random.uniform([1])\n",
        "    rot = math.pi*rot/180.\n",
        "    \n",
        "    h_zoom = 1.0 + tf.random.normal([1], dtype = 'float32')/HZOOM_\n",
        "    w_zoom = 1.0 + tf.random.normal([1], dtype = 'float32')/WZOOM_\n",
        "    h_shift = HSHIFT_*tf.random.normal([1], dtype = 'float32') \n",
        "    w_shift = WSHIFT_*tf.random.normal([1], dtype = 'float32')\n",
        "    \n",
        "    m = get_mat(rot, h_zoom, w_zoom, h_shift, w_shift)\n",
        "\n",
        "    # LIST DESTINATION PIXEL INDICES\n",
        "    x = tf.repeat(tf.range(DIM//2, -DIM//2, -1), DIM)\n",
        "    y = tf.tile(tf.range(-DIM//2, DIM//2), [DIM])\n",
        "    z = tf.ones([DIM*DIM], dtype = 'int32')\n",
        "    idx = tf.stack([x,y,z])\n",
        "    \n",
        "    # ROTATE DESTINATION PIXELS ONTO ORIGIN PIXELS\n",
        "    idx2 = tf.keras.backend.dot(m, tf.cast(idx, dtype = 'float32'))\n",
        "    idx2 = tf.keras.backend.cast(idx2, dtype = 'int32')\n",
        "    idx2 = tf.keras.backend.clip(idx2, -DIM//2 + XDIM + 1, DIM//2)\n",
        "    \n",
        "    # FIND ORIGIN PIXEL VALUES           \n",
        "    idx3 = tf.stack([DIM//2 - idx2[0, ], DIM//2 - 1 + idx2[1,]])\n",
        "    d = tf.gather_nd(image, tf.transpose(idx3))\n",
        "        \n",
        "    return tf.reshape(d, [DIM, DIM, 3])"
      ],
      "execution_count": null,
      "outputs": []
    },
    {
      "cell_type": "code",
      "metadata": {
        "trusted": true,
        "id": "4n-IPRkx1yN0"
      },
      "source": [
        "def get_training_dataset():\n",
        "    dataset = get_dataset(TRAINING_FILENAMES,\n",
        "                          augmented = True,\n",
        "                          shuffle = True,\n",
        "                          repeat = True,\n",
        "                          labeled = True)\n",
        "    return dataset\n",
        "\n",
        "def get_validation_dataset():\n",
        "    dataset = get_dataset(VALIDATION_FILENAMES,\n",
        "                          augmented = False,\n",
        "                          shuffle = False,\n",
        "                          repeat = False,\n",
        "                          labeled = True)\n",
        "    return dataset\n",
        "\n",
        "def get_test_dataset(ordered = True):\n",
        "    dataset = get_dataset(TEST_FILENAMES,\n",
        "                          augmented = True,\n",
        "                          shuffle = False,\n",
        "                          repeat = True,\n",
        "                          labeled = False)\n",
        "    return dataset"
      ],
      "execution_count": null,
      "outputs": []
    },
    {
      "cell_type": "code",
      "metadata": {
        "trusted": true,
        "id": "hQx7sYz51yN7"
      },
      "source": [
        "neg, pos = np.bincount(Y.target)\n",
        "pos = pos + EXTA\n",
        "\n",
        "initial_bias = np.log(pos/neg)\n",
        "\n",
        "weight_for_0 = (1 / neg)*(pos + neg)/2.0 \n",
        "weight_for_1 = (1 / pos)*(pos + neg)/2.0\n",
        "classweights = {0: weight_for_0, 1: weight_for_1}"
      ],
      "execution_count": null,
      "outputs": []
    },
    {
      "cell_type": "code",
      "metadata": {
        "trusted": true,
        "id": "7NLImwuQ1yOH"
      },
      "source": [
        "with strategy.scope():\n",
        "    METRICS = [\n",
        "      tf.keras.metrics.TruePositives(name = 'tp'),\n",
        "      tf.keras.metrics.AUC(name = 'auc'),\n",
        "    ]"
      ],
      "execution_count": null,
      "outputs": []
    },
    {
      "cell_type": "code",
      "metadata": {
        "trusted": true,
        "id": "5zak30kC1yOK",
        "colab": {
          "base_uri": "https://localhost:8080/",
          "height": 301
        },
        "outputId": "4b3ec1a1-e15c-4806-dc26-34103ad3b07e"
      },
      "source": [
        "lr_start = 1e-6\n",
        "lr_max =   3.125e-5*REPLICAS\n",
        "lr_min = 0.000001\n",
        "start_epoch = 5\n",
        "rampup_epoch = 20\n",
        "sustain_epoch = 20\n",
        "lr_exp_decay = 0.85\n",
        "\n",
        "def lrfn(epoch):\n",
        "    if epoch < start_epoch :\n",
        "        lr = lr_start\n",
        "    elif epoch < rampup_epoch :\n",
        "        lr = ((lr_max - lr_start)/(rampup_epoch - start_epoch))*(epoch - start_epoch) + lr_start\n",
        "    elif epoch < sustain_epoch :\n",
        "            lr = lr_max\n",
        "    else:\n",
        "            lr = lr_max*(lr_exp_decay**(epoch - sustain_epoch) + lr_min)\n",
        "            \n",
        "    return round(lr, 7)\n",
        "\n",
        "lr_schedule = tf.keras.callbacks.LearningRateScheduler(lrfn, verbose = 1)\n",
        "\n",
        "rng = [i for i in range(40)]\n",
        "y = [lrfn(x) for x in rng]\n",
        "plt.plot(rng, y); \n",
        "plt.xlabel('epoch',size = 14); plt.ylabel('learning rate',size = 14)\n",
        "plt.title('Training Schedule', size = 16); plt.show()"
      ],
      "execution_count": null,
      "outputs": [
        {
          "output_type": "display_data",
          "data": {
            "image/png": "[encoded data removed]",
            "text/plain": [
              "<Figure size 432x288 with 1 Axes>"
            ]
          },
          "metadata": {
            "tags": [],
            "needs_background": "light"
          }
        }
      ]
    },
    {
      "cell_type": "code",
      "metadata": {
        "id": "k-FKv4YZJT4q"
      },
      "source": [
        "colors = plt.rcParams['axes.prop_cycle'].by_key()['color']\n",
        "mpl.rcParams['figure.figsize'] = (12, 10)\n",
        "\n",
        "def plot_metrics(history):\n",
        "    metrics =  ['loss', 'auc']\n",
        "    for n, metric in enumerate(metrics):\n",
        "      name = metric.replace(\"_\",\" \").capitalize()\n",
        "      plt.subplot(1, 2, n + 1)\n",
        "      \n",
        "      plt.plot(history.epoch, history.history[metric], color = colors[0], label = 'Train')\n",
        "      plt.plot(history.epoch, history.history['val_'+ metric], color = colors[0], linestyle = \"--\", label = 'Val')\n",
        "      \n",
        "      plt.xlabel('Epoch')\n",
        "      plt.ylabel(name)\n",
        "      \n",
        "      if metric == 'loss':\n",
        "          plt.ylim([0, plt.ylim()[1]])\n",
        "          \n",
        "      elif metric == 'auc':\n",
        "          plt.ylim([0.0,1])\n",
        "          \n",
        "      plt.legend()\n",
        "      plt.tight_layout(pad = 5)\n",
        "      plt.show()"
      ],
      "execution_count": null,
      "outputs": []
    },
    {
      "cell_type": "code",
      "metadata": {
        "id": "OqsHOMm7-f3q"
      },
      "source": [
        "NET_SELECT = 6\n",
        "num_str = 'model-b%i' %NET_SELECT"
      ],
      "execution_count": null,
      "outputs": []
    },
    {
      "cell_type": "code",
      "metadata": {
        "id": "E_yT6xuu5sYB",
        "colab": {
          "base_uri": "https://localhost:8080/",
          "height": 35
        },
        "outputId": "b016eb5a-ef69-4a50-c2f6-8f16ab165561"
      },
      "source": [
        "%cd /content/gdrive/My Drive/kaggle/AllFoldsAllData_b6_256/\n"
      ],
      "execution_count": null,
      "outputs": [
        {
          "output_type": "stream",
          "text": [
            "/content/gdrive/My Drive/kaggle/AllFoldsAllData_b6_256\n"
          ],
          "name": "stdout"
        }
      ]
    },
    {
      "cell_type": "code",
      "metadata": {
        "id": "SQSPS5PYwrvE"
      },
      "source": [
        "%ls"
      ],
      "execution_count": null,
      "outputs": []
    },
    {
      "cell_type": "code",
      "metadata": {
        "trusted": true,
        "id": "ZXZA4jLI1yOY",
        "colab": {
          "base_uri": "https://localhost:8080/",
          "height": 901
        },
        "outputId": "91d22e5e-ec9c-4f97-d3d3-2c9f23c700d9"
      },
      "source": [
        "def build_model():\n",
        "    with strategy.scope():\n",
        "        eff_model = effnet[NET_SELECT](\n",
        "            input_shape = (*IMAGE_SIZE, 3),\n",
        "            weights = WEIGHTS,\n",
        "            include_top = False\n",
        "        )\n",
        "\n",
        "        eff_model.trainable = True\n",
        "        \n",
        "        CNN_inp = L.Input(shape = (*IMAGE_SIZE, 3), name = 'CNN_inp')\n",
        "        TAB_inp = L.Input(shape = (N_TAB_FEATS), name = 'TAB_inp')\n",
        "        \n",
        "        x = eff_model(CNN_inp)\n",
        "        x = L.GlobalMaxPooling2D()(x)\n",
        "        x = L.Dense(1024, activation = 'relu')(x)\n",
        "        x = L.Dropout(0.3)(x)\n",
        "        x = L.Dense(512, activation = 'relu')(x)\n",
        "        x = L.Dropout(0.2)(x)\n",
        "        x = L.Dense(256, activation ='relu')(x)\n",
        "        x = L.Dropout(0.2)(x)\n",
        "        x = L.Dense(128, activation ='relu')(x)\n",
        "        x = L.Dropout(0.1)(x)\n",
        "        x = L.Dense(30, activation ='relu')(x)\n",
        "        x = L.Dropout(0.1)(x)\n",
        "        \n",
        "        y = L.Dense(8, activation = 'relu')(TAB_inp)\n",
        "        y = L.Dropout(0.1)(y)\n",
        "        y = L.Dense(2, activation ='relu')(y)\n",
        "        y = L.Dropout(0.1)(y)\n",
        "        \n",
        "        combine = L.concatenate([y, x])\n",
        "        \n",
        "        output = L.Dense(1, activation ='sigmoid',\n",
        "                         bias_initializer = tf.keras.initializers.Constant(initial_bias),\n",
        "                         name = 'output')(combine)\n",
        "        \n",
        "        model = tf.keras.models.Model(inputs = [CNN_inp, TAB_inp], outputs = [output])\n",
        "\n",
        "        model.compile(\n",
        "            optimizer = 'adam',\n",
        "            loss = tfa.losses.SigmoidFocalCrossEntropy(gamma = 5.0, alpha = 0.2),\n",
        "            metrics = METRICS\n",
        "        )\n",
        "    \n",
        "    return model\n",
        "\n",
        "\n",
        "model = build_model()\n",
        "model.summary()"
      ],
      "execution_count": null,
      "outputs": [
        {
          "output_type": "stream",
          "text": [
            "Downloading data from https://github.com/qubvel/efficientnet/releases/download/v0.0.1/efficientnet-b6_noisy-student_notop.h5\n",
            "165232640/165226952 [==============================] - 2s 0us/step\n",
            "Model: \"functional_1\"\n",
            "__________________________________________________________________________________________________\n",
            "Layer (type)                    Output Shape         Param #     Connected to                     \n",
            "==================================================================================================\n",
            "CNN_inp (InputLayer)            [(None, 256, 256, 3) 0                                            \n",
            "__________________________________________________________________________________________________\n",
            "efficientnet-b6 (Functional)    (None, 8, 8, 2304)   40960136    CNN_inp[0][0]                    \n",
            "__________________________________________________________________________________________________\n",
            "global_max_pooling2d (GlobalMax (None, 2304)         0           efficientnet-b6[0][0]            \n",
            "__________________________________________________________________________________________________\n",
            "dense (Dense)                   (None, 1024)         2360320     global_max_pooling2d[0][0]       \n",
            "__________________________________________________________________________________________________\n",
            "dropout (Dropout)               (None, 1024)         0           dense[0][0]                      \n",
            "__________________________________________________________________________________________________\n",
            "dense_1 (Dense)                 (None, 512)          524800      dropout[0][0]                    \n",
            "__________________________________________________________________________________________________\n",
            "dropout_1 (Dropout)             (None, 512)          0           dense_1[0][0]                    \n",
            "__________________________________________________________________________________________________\n",
            "dense_2 (Dense)                 (None, 256)          131328      dropout_1[0][0]                  \n",
            "__________________________________________________________________________________________________\n",
            "TAB_inp (InputLayer)            [(None, 2)]          0                                            \n",
            "__________________________________________________________________________________________________\n",
            "dropout_2 (Dropout)             (None, 256)          0           dense_2[0][0]                    \n",
            "__________________________________________________________________________________________________\n",
            "dense_5 (Dense)                 (None, 8)            24          TAB_inp[0][0]                    \n",
            "__________________________________________________________________________________________________\n",
            "dense_3 (Dense)                 (None, 128)          32896       dropout_2[0][0]                  \n",
            "__________________________________________________________________________________________________\n",
            "dropout_5 (Dropout)             (None, 8)            0           dense_5[0][0]                    \n",
            "__________________________________________________________________________________________________\n",
            "dropout_3 (Dropout)             (None, 128)          0           dense_3[0][0]                    \n",
            "__________________________________________________________________________________________________\n",
            "dense_6 (Dense)                 (None, 2)            18          dropout_5[0][0]                  \n",
            "__________________________________________________________________________________________________\n",
            "dense_4 (Dense)                 (None, 30)           3870        dropout_3[0][0]                  \n",
            "__________________________________________________________________________________________________\n",
            "dropout_6 (Dropout)             (None, 2)            0           dense_6[0][0]                    \n",
            "__________________________________________________________________________________________________\n",
            "dropout_4 (Dropout)             (None, 30)           0           dense_4[0][0]                    \n",
            "__________________________________________________________________________________________________\n",
            "concatenate (Concatenate)       (None, 32)           0           dropout_6[0][0]                  \n",
            "                                                                 dropout_4[0][0]                  \n",
            "__________________________________________________________________________________________________\n",
            "output (Dense)                  (None, 1)            33          concatenate[0][0]                \n",
            "==================================================================================================\n",
            "Total params: 44,013,425\n",
            "Trainable params: 43,788,993\n",
            "Non-trainable params: 224,432\n",
            "__________________________________________________________________________________________________\n"
          ],
          "name": "stdout"
        }
      ]
    },
    {
      "cell_type": "code",
      "metadata": {
        "trusted": true,
        "id": "zBnwxCml1yOm",
        "colab": {
          "base_uri": "https://localhost:8080/",
          "height": 1000
        },
        "outputId": "cc42ad8e-eb44-4284-ae43-d569b251c8da"
      },
      "source": [
        "for i in range(4):  \n",
        "    FOLD_SELECT = i\n",
        "\n",
        "    if FOLD_SELECT > 0:\n",
        "        weightfilepath = 'weights_fold-%i_' %(FOLD_SELECT - 1) + num_str + '.h5'\n",
        "        print(weightfilepath)\n",
        "        model.load_weights(weightfilepath)\n",
        "\n",
        "    skf = KFold(n_splits = FOLDS, shuffle = True, random_state = SEED)\n",
        "    for fold,(idx_t,idx_val) in enumerate(skf.split(np.arange(15))):\n",
        "        if fold == FOLD_SELECT:\n",
        "            idxT = idx_t\n",
        "            idxV = idx_val\n",
        "    print('Validation index: ', idxV)\n",
        "\n",
        "    TRAINING_FILENAMES = tf.io.gfile.glob(GCS_PATH1 + '/train%.2i*.tfrec' %x for x in idxT)\n",
        "    VALIDATION_FILENAMES = tf.io.gfile.glob(GCS_PATH1 + '/train%.2i*.tfrec' %x for x in idxV)\n",
        "    TEST_FILENAMES = tf.io.gfile.glob(GCS_PATH1 + '/test*.tfrec')\n",
        "\n",
        "    ####Additional training data\n",
        "    #TRAINING_FILENAMES += tf.io.gfile.glob([GCS_PATH3 + '/train%.2i*.tfrec' %x for x in range(15, 30)])\n",
        "    if INC2019: TRAINING_FILENAMES += tf.io.gfile.glob([GCS_PATH2 + '/train%.2i*.tfrec' %x for x in LEN*2 + 1])\n",
        "    if INC2018: TRAINING_FILENAMES += tf.io.gfile.glob([GCS_PATH2 + '/train%.2i*.tfrec'%x for x in LEN*2])\n",
        "\n",
        "    print('Number of training files: ', len(TRAINING_FILENAMES))\n",
        "\n",
        "    NUM_TRAINING_IMAGES = count_data_items(TRAINING_FILENAMES)\n",
        "    NUM_VALIDATION_IMAGES = count_data_items(VALIDATION_FILENAMES)\n",
        "    NUM_TEST_IMAGES = count_data_items(TEST_FILENAMES)\n",
        "    print('Dataset: {} training images, {} validation images, {} unlabeled test images'.format(NUM_TRAINING_IMAGES,\n",
        "                                                                                              NUM_VALIDATION_IMAGES,\n",
        "                                                                                              NUM_TEST_IMAGES))\n",
        "\n",
        "    EPOCHS = _epoches[FOLD_SELECT]\n",
        "    INITIAL_EPOCH = _initial_epoch[FOLD_SELECT]\n",
        "    STEPS_PER_EPOCH = NUM_TRAINING_IMAGES // BATCH_SIZE\n",
        "\n",
        "    checkpoint_path = 'weights-%i-{epoch:02d}-{val_auc:.3f}.h5'%FOLD_SELECT\n",
        "    checkpoint = tf.keras.callbacks.ModelCheckpoint(checkpoint_path,\n",
        "                                                    monitor = 'val_auc',\n",
        "                                                    verbose = 1,\n",
        "                                                    save_weights_only = True,\n",
        "                                                    period = 5)\n",
        "\n",
        "    history = model.fit(\n",
        "        get_training_dataset(), \n",
        "        epochs = EPOCHS, \n",
        "        initial_epoch = INITIAL_EPOCH,\n",
        "        steps_per_epoch = STEPS_PER_EPOCH,\n",
        "        class_weight = classweights,\n",
        "        validation_data = get_validation_dataset(),\n",
        "        callbacks = [lr_schedule, checkpoint]\n",
        "    )\n",
        "\n",
        "    model.save_weights('weights_fold-%i_' %FOLD_SELECT + num_str + '.h5')\n",
        "\n",
        "    plot_metrics(history)\n",
        "\n",
        "    if FOLD_SELECT == 3:\n",
        "        pd.DataFrame.from_dict(history.history).to_csv('history_fold-%i_' %FOLD_SELECT + num_str + '.csv', index = False)\n",
        "\n",
        "        STEPS = TTA*NUM_TEST_IMAGES/BATCH_SIZE\n",
        "        testtf = get_test_dataset()\n",
        "        test_images_ds = testtf.map(lambda data, image_name : data)\n",
        "\n",
        "        pred = model.predict(test_images_ds, steps = STEPS, verbose = 1)[:TTA*NUM_TEST_IMAGES, ] \n",
        "\n",
        "        preds = np.zeros((NUM_TEST_IMAGES, 1))\n",
        "        preds[:, 0] = np.mean(pred.reshape((NUM_TEST_IMAGES, TTA), order = 'F'), axis = 1)\n",
        "\n",
        "        test_ids_ds = testtf.map(lambda image, image_name : image_name).unbatch()\n",
        "        test_ids = next(iter(test_ids_ds.batch(NUM_TEST_IMAGES))).numpy().astype('U') # all in one batch\n",
        "\n",
        "        submission = pd.DataFrame(dict(image_name = test_ids, target = preds[:, 0]))\n",
        "        submission = submission.sort_values('image_name') \n",
        "        submission.to_csv('submission-%i-' %FOLD_SELECT + num_str + 'TTA_25.csv' , index = False)\n",
        "        print(submission)\n",
        "\n",
        "    %ls"
      ],
      "execution_count": null,
      "outputs": [
        {
          "output_type": "stream",
          "text": [
            "Validation index:  [ 2  5 12]\n",
            "Number of training files:  27\n",
            "Dataset: 38989 training images, 6562 validation images, 10982 unlabeled test images\n",
            "WARNING:tensorflow:`period` argument is deprecated. Please use `save_freq` to specify the frequency in number of batches seen.\n"
          ],
          "name": "stdout"
        },
        {
          "output_type": "stream",
          "text": [
            "WARNING:tensorflow:`period` argument is deprecated. Please use `save_freq` to specify the frequency in number of batches seen.\n"
          ],
          "name": "stderr"
        },
        {
          "output_type": "stream",
          "text": [
            "\n",
            "Epoch 00001: LearningRateScheduler reducing learning rate to 1e-06.\n",
            "Epoch 1/10\n",
            "WARNING:tensorflow:From /usr/local/lib/python3.6/dist-packages/tensorflow/python/data/ops/multi_device_iterator_ops.py:601: get_next_as_optional (from tensorflow.python.data.ops.iterator_ops) is deprecated and will be removed in a future version.\n",
            "Instructions for updating:\n",
            "Use `tf.data.Iterator.get_next_as_optional()` instead.\n"
          ],
          "name": "stdout"
        },
        {
          "output_type": "stream",
          "text": [
            "WARNING:tensorflow:From /usr/local/lib/python3.6/dist-packages/tensorflow/python/data/ops/multi_device_iterator_ops.py:601: get_next_as_optional (from tensorflow.python.data.ops.iterator_ops) is deprecated and will be removed in a future version.\n",
            "Instructions for updating:\n",
            "Use `tf.data.Iterator.get_next_as_optional()` instead.\n"
          ],
          "name": "stderr"
        },
        {
          "output_type": "stream",
          "text": [
            "  2/304 [..............................] - ETA: 1:32 - loss: 0.1510 - tp: 0.0000e+00 - auc: 0.4096WARNING:tensorflow:Callbacks method `on_train_batch_end` is slow compared to the batch time (batch time: 0.0243s vs `on_train_batch_end` time: 0.5877s). Check your callbacks.\n"
          ],
          "name": "stdout"
        },
        {
          "output_type": "stream",
          "text": [
            "WARNING:tensorflow:Callbacks method `on_train_batch_end` is slow compared to the batch time (batch time: 0.0243s vs `on_train_batch_end` time: 0.5877s). Check your callbacks.\n"
          ],
          "name": "stderr"
        },
        {
          "output_type": "stream",
          "text": [
            "304/304 [==============================] - 223s 735ms/step - loss: 0.0993 - tp: 47.0000 - auc: 0.5071 - val_loss: 0.0053 - val_tp: 1.0000 - val_auc: 0.4221\n",
            "\n",
            "Epoch 00002: LearningRateScheduler reducing learning rate to 1e-06.\n",
            "Epoch 2/10\n",
            "304/304 [==============================] - 192s 631ms/step - loss: 0.0575 - tp: 193.0000 - auc: 0.4932 - val_loss: 0.0040 - val_tp: 0.0000e+00 - val_auc: 0.4572\n",
            "\n",
            "Epoch 00003: LearningRateScheduler reducing learning rate to 1e-06.\n",
            "Epoch 3/10\n",
            "304/304 [==============================] - 193s 634ms/step - loss: 0.0493 - tp: 193.0000 - auc: 0.4885 - val_loss: 0.0033 - val_tp: 0.0000e+00 - val_auc: 0.4655\n",
            "\n",
            "Epoch 00004: LearningRateScheduler reducing learning rate to 1e-06.\n",
            "Epoch 4/10\n",
            "304/304 [==============================] - 193s 636ms/step - loss: 0.0439 - tp: 199.0000 - auc: 0.4860 - val_loss: 0.0031 - val_tp: 0.0000e+00 - val_auc: 0.4698\n",
            "\n",
            "Epoch 00005: LearningRateScheduler reducing learning rate to 1e-06.\n",
            "Epoch 5/10\n",
            "304/304 [==============================] - ETA: 0s - loss: 0.0391 - tp: 206.0000 - auc: 0.4964\n",
            "Epoch 00005: saving model to weights-0-05-0.475.h5\n",
            "304/304 [==============================] - 198s 653ms/step - loss: 0.0391 - tp: 206.0000 - auc: 0.4964 - val_loss: 0.0028 - val_tp: 0.0000e+00 - val_auc: 0.4750\n",
            "\n",
            "Epoch 00006: LearningRateScheduler reducing learning rate to 1e-06.\n",
            "Epoch 6/10\n",
            "304/304 [==============================] - 194s 638ms/step - loss: 0.0356 - tp: 212.0000 - auc: 0.5041 - val_loss: 0.0027 - val_tp: 0.0000e+00 - val_auc: 0.4781\n",
            "\n",
            "Epoch 00007: LearningRateScheduler reducing learning rate to 1.76e-05.\n",
            "Epoch 7/10\n",
            "304/304 [==============================] - 194s 637ms/step - loss: 0.0265 - tp: 244.0000 - auc: 0.5085 - val_loss: 0.0021 - val_tp: 0.0000e+00 - val_auc: 0.5411\n",
            "\n",
            "Epoch 00008: LearningRateScheduler reducing learning rate to 3.42e-05.\n",
            "Epoch 8/10\n",
            "304/304 [==============================] - 194s 638ms/step - loss: 0.0181 - tp: 304.0000 - auc: 0.5549 - val_loss: 0.0017 - val_tp: 0.0000e+00 - val_auc: 0.6140\n",
            "\n",
            "Epoch 00009: LearningRateScheduler reducing learning rate to 5.08e-05.\n",
            "Epoch 9/10\n",
            "304/304 [==============================] - 194s 637ms/step - loss: 0.0144 - tp: 370.0000 - auc: 0.5905 - val_loss: 0.0015 - val_tp: 0.0000e+00 - val_auc: 0.6710\n",
            "\n",
            "Epoch 00010: LearningRateScheduler reducing learning rate to 6.74e-05.\n",
            "Epoch 10/10\n",
            "304/304 [==============================] - ETA: 0s - loss: 0.0121 - tp: 416.0000 - auc: 0.6314\n",
            "Epoch 00010: saving model to weights-0-10-0.699.h5\n",
            "304/304 [==============================] - 199s 654ms/step - loss: 0.0121 - tp: 416.0000 - auc: 0.6314 - val_loss: 0.0014 - val_tp: 0.0000e+00 - val_auc: 0.6992\n"
          ],
          "name": "stdout"
        },
        {
          "output_type": "display_data",
          "data": {
            "image/png": "[encoded data removed]",
            "text/plain": [
              "<Figure size 864x720 with 1 Axes>"
            ]
          },
          "metadata": {
            "tags": [],
            "needs_background": "light"
          }
        },
        {
          "output_type": "display_data",
          "data": {
            "image/png": "[encoded data removed]",
            "text/plain": [
              "<Figure size 864x720 with 1 Axes>"
            ]
          },
          "metadata": {
            "tags": [],
            "needs_background": "light"
          }
        },
        {
          "output_type": "stream",
          "text": [
            "weights-0-05-0.475.h5  weights-0-10-0.699.h5  weights_fold-0_model-b6.h5\n",
            "weights_fold-0_model-b6.h5\n",
            "Validation index:  [ 6  9 14]\n",
            "Number of training files:  27\n",
            "Dataset: 39024 training images, 6527 validation images, 10982 unlabeled test images\n",
            "WARNING:tensorflow:`period` argument is deprecated. Please use `save_freq` to specify the frequency in number of batches seen.\n"
          ],
          "name": "stdout"
        },
        {
          "output_type": "stream",
          "text": [
            "WARNING:tensorflow:`period` argument is deprecated. Please use `save_freq` to specify the frequency in number of batches seen.\n"
          ],
          "name": "stderr"
        },
        {
          "output_type": "stream",
          "text": [
            "\n",
            "Epoch 00011: LearningRateScheduler reducing learning rate to 8.4e-05.\n",
            "Epoch 11/20\n",
            "  2/304 [..............................] - ETA: 1:41 - loss: 0.0093 - tp: 2.0000 - auc: 0.6394WARNING:tensorflow:Callbacks method `on_train_batch_end` is slow compared to the batch time (batch time: 0.0335s vs `on_train_batch_end` time: 0.6319s). Check your callbacks.\n"
          ],
          "name": "stdout"
        },
        {
          "output_type": "stream",
          "text": [
            "WARNING:tensorflow:Callbacks method `on_train_batch_end` is slow compared to the batch time (batch time: 0.0335s vs `on_train_batch_end` time: 0.6319s). Check your callbacks.\n"
          ],
          "name": "stderr"
        },
        {
          "output_type": "stream",
          "text": [
            "304/304 [==============================] - 193s 635ms/step - loss: 0.0109 - tp: 472.0000 - auc: 0.6586 - val_loss: 0.0013 - val_tp: 0.0000e+00 - val_auc: 0.7498\n",
            "\n",
            "Epoch 00012: LearningRateScheduler reducing learning rate to 0.0001006.\n",
            "Epoch 12/20\n",
            "304/304 [==============================] - 194s 640ms/step - loss: 0.0100 - tp: 497.0000 - auc: 0.6766 - val_loss: 0.0013 - val_tp: 0.0000e+00 - val_auc: 0.7809\n",
            "\n",
            "Epoch 00013: LearningRateScheduler reducing learning rate to 0.0001172.\n",
            "Epoch 13/20\n",
            "304/304 [==============================] - 194s 639ms/step - loss: 0.0092 - tp: 532.0000 - auc: 0.7081 - val_loss: 0.0012 - val_tp: 0.0000e+00 - val_auc: 0.7897\n",
            "\n",
            "Epoch 00014: LearningRateScheduler reducing learning rate to 0.0001338.\n",
            "Epoch 14/20\n",
            "304/304 [==============================] - 194s 639ms/step - loss: 0.0087 - tp: 570.0000 - auc: 0.7215 - val_loss: 0.0013 - val_tp: 0.0000e+00 - val_auc: 0.8022\n",
            "\n",
            "Epoch 00015: LearningRateScheduler reducing learning rate to 0.0001504.\n",
            "Epoch 15/20\n",
            "304/304 [==============================] - ETA: 0s - loss: 0.0082 - tp: 610.0000 - auc: 0.7423\n",
            "Epoch 00015: saving model to weights-1-15-0.830.h5\n",
            "304/304 [==============================] - 199s 654ms/step - loss: 0.0082 - tp: 610.0000 - auc: 0.7423 - val_loss: 0.0011 - val_tp: 1.0000 - val_auc: 0.8302\n",
            "\n",
            "Epoch 00016: LearningRateScheduler reducing learning rate to 0.000167.\n",
            "Epoch 16/20\n",
            "304/304 [==============================] - 194s 638ms/step - loss: 0.0078 - tp: 609.0000 - auc: 0.7544 - val_loss: 0.0011 - val_tp: 0.0000e+00 - val_auc: 0.8511\n",
            "\n",
            "Epoch 00017: LearningRateScheduler reducing learning rate to 0.0001836.\n",
            "Epoch 17/20\n",
            "304/304 [==============================] - 193s 636ms/step - loss: 0.0074 - tp: 625.0000 - auc: 0.7682 - val_loss: 0.0010 - val_tp: 0.0000e+00 - val_auc: 0.8545\n",
            "\n",
            "Epoch 00018: LearningRateScheduler reducing learning rate to 0.0002002.\n",
            "Epoch 18/20\n",
            "304/304 [==============================] - 194s 637ms/step - loss: 0.0068 - tp: 669.0000 - auc: 0.7908 - val_loss: 0.0011 - val_tp: 0.0000e+00 - val_auc: 0.8647\n",
            "\n",
            "Epoch 00019: LearningRateScheduler reducing learning rate to 0.0002168.\n",
            "Epoch 19/20\n",
            "304/304 [==============================] - 194s 638ms/step - loss: 0.0070 - tp: 684.0000 - auc: 0.7890 - val_loss: 0.0010 - val_tp: 0.0000e+00 - val_auc: 0.8667\n",
            "\n",
            "Epoch 00020: LearningRateScheduler reducing learning rate to 0.0002334.\n",
            "Epoch 20/20\n",
            "304/304 [==============================] - ETA: 0s - loss: 0.0065 - tp: 686.0000 - auc: 0.8091\n",
            "Epoch 00020: saving model to weights-1-20-0.867.h5\n",
            "304/304 [==============================] - 199s 654ms/step - loss: 0.0065 - tp: 686.0000 - auc: 0.8091 - val_loss: 0.0011 - val_tp: 0.0000e+00 - val_auc: 0.8669\n"
          ],
          "name": "stdout"
        },
        {
          "output_type": "display_data",
          "data": {
            "image/png": "[encoded data removed]",
            "text/plain": [
              "<Figure size 864x720 with 1 Axes>"
            ]
          },
          "metadata": {
            "tags": [],
            "needs_background": "light"
          }
        },
        {
          "output_type": "display_data",
          "data": {
            "image/png": "[encoded data removed]",
            "text/plain": [
              "<Figure size 864x720 with 1 Axes>"
            ]
          },
          "metadata": {
            "tags": [],
            "needs_background": "light"
          }
        },
        {
          "output_type": "stream",
          "text": [
            "weights-0-05-0.475.h5  weights-1-15-0.830.h5  weights_fold-0_model-b6.h5\n",
            "weights-0-10-0.699.h5  weights-1-20-0.867.h5  weights_fold-1_model-b6.h5\n",
            "weights_fold-1_model-b6.h5\n",
            "Validation index:  [ 4  8 10]\n",
            "Number of training files:  27\n",
            "Dataset: 39033 training images, 6518 validation images, 10982 unlabeled test images\n",
            "WARNING:tensorflow:`period` argument is deprecated. Please use `save_freq` to specify the frequency in number of batches seen.\n"
          ],
          "name": "stdout"
        },
        {
          "output_type": "stream",
          "text": [
            "WARNING:tensorflow:`period` argument is deprecated. Please use `save_freq` to specify the frequency in number of batches seen.\n"
          ],
          "name": "stderr"
        },
        {
          "output_type": "stream",
          "text": [
            "\n",
            "Epoch 00021: LearningRateScheduler reducing learning rate to 0.00025.\n",
            "Epoch 21/30\n",
            "  2/304 [..............................] - ETA: 1:45 - loss: 0.0076 - tp: 1.0000 - auc: 0.5541  WARNING:tensorflow:Callbacks method `on_train_batch_end` is slow compared to the batch time (batch time: 0.0311s vs `on_train_batch_end` time: 0.6639s). Check your callbacks.\n"
          ],
          "name": "stdout"
        },
        {
          "output_type": "stream",
          "text": [
            "WARNING:tensorflow:Callbacks method `on_train_batch_end` is slow compared to the batch time (batch time: 0.0311s vs `on_train_batch_end` time: 0.6639s). Check your callbacks.\n"
          ],
          "name": "stderr"
        },
        {
          "output_type": "stream",
          "text": [
            "304/304 [==============================] - 202s 666ms/step - loss: 0.0065 - tp: 671.0000 - auc: 0.8042 - val_loss: 0.0013 - val_tp: 0.0000e+00 - val_auc: 0.8635\n",
            "\n",
            "Epoch 00022: LearningRateScheduler reducing learning rate to 0.0002125.\n",
            "Epoch 22/30\n",
            "304/304 [==============================] - 194s 639ms/step - loss: 0.0062 - tp: 737.0000 - auc: 0.8209 - val_loss: 0.0012 - val_tp: 0.0000e+00 - val_auc: 0.8653\n",
            "\n",
            "Epoch 00023: LearningRateScheduler reducing learning rate to 0.0001806.\n",
            "Epoch 23/30\n",
            "304/304 [==============================] - 194s 639ms/step - loss: 0.0060 - tp: 775.0000 - auc: 0.8296 - val_loss: 0.0012 - val_tp: 0.0000e+00 - val_auc: 0.8703\n",
            "\n",
            "Epoch 00024: LearningRateScheduler reducing learning rate to 0.0001535.\n",
            "Epoch 24/30\n",
            "304/304 [==============================] - 194s 638ms/step - loss: 0.0059 - tp: 730.0000 - auc: 0.8294 - val_loss: 0.0011 - val_tp: 0.0000e+00 - val_auc: 0.8716\n",
            "\n",
            "Epoch 00025: LearningRateScheduler reducing learning rate to 0.0001305.\n",
            "Epoch 25/30\n",
            "304/304 [==============================] - ETA: 0s - loss: 0.0058 - tp: 773.0000 - auc: 0.8340\n",
            "Epoch 00025: saving model to weights-2-25-0.863.h5\n",
            "304/304 [==============================] - 199s 654ms/step - loss: 0.0058 - tp: 773.0000 - auc: 0.8340 - val_loss: 0.0011 - val_tp: 0.0000e+00 - val_auc: 0.8634\n",
            "\n",
            "Epoch 00026: LearningRateScheduler reducing learning rate to 0.0001109.\n",
            "Epoch 26/30\n",
            "304/304 [==============================] - 194s 639ms/step - loss: 0.0054 - tp: 787.0000 - auc: 0.8483 - val_loss: 0.0010 - val_tp: 0.0000e+00 - val_auc: 0.8810\n",
            "\n",
            "Epoch 00027: LearningRateScheduler reducing learning rate to 9.43e-05.\n",
            "Epoch 27/30\n",
            "304/304 [==============================] - 194s 638ms/step - loss: 0.0053 - tp: 826.0000 - auc: 0.8558 - val_loss: 0.0011 - val_tp: 0.0000e+00 - val_auc: 0.8736\n",
            "\n",
            "Epoch 00028: LearningRateScheduler reducing learning rate to 8.01e-05.\n",
            "Epoch 28/30\n",
            "304/304 [==============================] - 194s 639ms/step - loss: 0.0052 - tp: 825.0000 - auc: 0.8620 - val_loss: 9.3214e-04 - val_tp: 0.0000e+00 - val_auc: 0.8910\n",
            "\n",
            "Epoch 00029: LearningRateScheduler reducing learning rate to 6.81e-05.\n",
            "Epoch 29/30\n",
            "304/304 [==============================] - 194s 637ms/step - loss: 0.0051 - tp: 855.0000 - auc: 0.8639 - val_loss: 0.0010 - val_tp: 0.0000e+00 - val_auc: 0.8950\n",
            "\n",
            "Epoch 00030: LearningRateScheduler reducing learning rate to 5.79e-05.\n",
            "Epoch 30/30\n",
            "304/304 [==============================] - ETA: 0s - loss: 0.0051 - tp: 861.0000 - auc: 0.8684\n",
            "Epoch 00030: saving model to weights-2-30-0.886.h5\n",
            "304/304 [==============================] - 199s 655ms/step - loss: 0.0051 - tp: 861.0000 - auc: 0.8684 - val_loss: 0.0010 - val_tp: 0.0000e+00 - val_auc: 0.8856\n"
          ],
          "name": "stdout"
        },
        {
          "output_type": "display_data",
          "data": {
            "image/png": "[encoded data removed]",
            "text/plain": [
              "<Figure size 864x720 with 1 Axes>"
            ]
          },
          "metadata": {
            "tags": [],
            "needs_background": "light"
          }
        },
        {
          "output_type": "display_data",
          "data": {
            "image/png": "[encoded data removed]",
            "text/plain": [
              "<Figure size 864x720 with 1 Axes>"
            ]
          },
          "metadata": {
            "tags": [],
            "needs_background": "light"
          }
        },
        {
          "output_type": "stream",
          "text": [
            "weights-0-05-0.475.h5  weights-1-20-0.867.h5  weights_fold-0_model-b6.h5\n",
            "weights-0-10-0.699.h5  weights-2-25-0.863.h5  weights_fold-1_model-b6.h5\n",
            "weights-1-15-0.830.h5  weights-2-30-0.886.h5  weights_fold-2_model-b6.h5\n",
            "weights_fold-2_model-b6.h5\n",
            "Validation index:  [ 0  1 11]\n",
            "Number of training files:  27\n",
            "Dataset: 39008 training images, 6543 validation images, 10982 unlabeled test images\n",
            "WARNING:tensorflow:`period` argument is deprecated. Please use `save_freq` to specify the frequency in number of batches seen.\n"
          ],
          "name": "stdout"
        },
        {
          "output_type": "stream",
          "text": [
            "WARNING:tensorflow:`period` argument is deprecated. Please use `save_freq` to specify the frequency in number of batches seen.\n"
          ],
          "name": "stderr"
        },
        {
          "output_type": "stream",
          "text": [
            "\n",
            "Epoch 00031: LearningRateScheduler reducing learning rate to 4.92e-05.\n",
            "Epoch 31/40\n",
            "  2/304 [..............................] - ETA: 1:48 - loss: 0.0051 - tp: 1.0000 - auc: 0.5853WARNING:tensorflow:Callbacks method `on_train_batch_end` is slow compared to the batch time (batch time: 0.0270s vs `on_train_batch_end` time: 0.6846s). Check your callbacks.\n"
          ],
          "name": "stdout"
        },
        {
          "output_type": "stream",
          "text": [
            "WARNING:tensorflow:Callbacks method `on_train_batch_end` is slow compared to the batch time (batch time: 0.0270s vs `on_train_batch_end` time: 0.6846s). Check your callbacks.\n"
          ],
          "name": "stderr"
        },
        {
          "output_type": "stream",
          "text": [
            "304/304 [==============================] - 200s 657ms/step - loss: 0.0049 - tp: 863.0000 - auc: 0.8705 - val_loss: 9.3800e-04 - val_tp: 0.0000e+00 - val_auc: 0.9215\n",
            "\n",
            "Epoch 00032: LearningRateScheduler reducing learning rate to 4.18e-05.\n",
            "Epoch 32/40\n",
            "304/304 [==============================] - 194s 639ms/step - loss: 0.0049 - tp: 875.0000 - auc: 0.8754 - val_loss: 0.0010 - val_tp: 0.0000e+00 - val_auc: 0.9293\n",
            "\n",
            "Epoch 00033: LearningRateScheduler reducing learning rate to 3.56e-05.\n",
            "Epoch 33/40\n",
            "304/304 [==============================] - 194s 638ms/step - loss: 0.0049 - tp: 895.0000 - auc: 0.8755 - val_loss: 9.3763e-04 - val_tp: 0.0000e+00 - val_auc: 0.9253\n",
            "\n",
            "Epoch 00034: LearningRateScheduler reducing learning rate to 3.02e-05.\n",
            "Epoch 34/40\n",
            "304/304 [==============================] - 196s 646ms/step - loss: 0.0048 - tp: 874.0000 - auc: 0.8801 - val_loss: 9.5432e-04 - val_tp: 0.0000e+00 - val_auc: 0.9223\n",
            "\n",
            "Epoch 00035: LearningRateScheduler reducing learning rate to 2.57e-05.\n",
            "Epoch 35/40\n",
            "304/304 [==============================] - ETA: 0s - loss: 0.0047 - tp: 928.0000 - auc: 0.8833\n",
            "Epoch 00035: saving model to weights-3-35-0.930.h5\n",
            "304/304 [==============================] - 199s 655ms/step - loss: 0.0047 - tp: 928.0000 - auc: 0.8833 - val_loss: 9.2365e-04 - val_tp: 0.0000e+00 - val_auc: 0.9298\n",
            "\n",
            "Epoch 00036: LearningRateScheduler reducing learning rate to 2.18e-05.\n",
            "Epoch 36/40\n",
            "304/304 [==============================] - 194s 638ms/step - loss: 0.0048 - tp: 917.0000 - auc: 0.8837 - val_loss: 9.3919e-04 - val_tp: 0.0000e+00 - val_auc: 0.9291\n",
            "\n",
            "Epoch 00037: LearningRateScheduler reducing learning rate to 1.86e-05.\n",
            "Epoch 37/40\n",
            "304/304 [==============================] - 194s 638ms/step - loss: 0.0046 - tp: 920.0000 - auc: 0.8879 - val_loss: 9.4837e-04 - val_tp: 0.0000e+00 - val_auc: 0.9283\n",
            "\n",
            "Epoch 00038: LearningRateScheduler reducing learning rate to 1.58e-05.\n",
            "Epoch 38/40\n",
            "304/304 [==============================] - 194s 638ms/step - loss: 0.0046 - tp: 931.0000 - auc: 0.8895 - val_loss: 9.5256e-04 - val_tp: 0.0000e+00 - val_auc: 0.9303\n",
            "\n",
            "Epoch 00039: LearningRateScheduler reducing learning rate to 1.34e-05.\n",
            "Epoch 39/40\n",
            "304/304 [==============================] - 194s 637ms/step - loss: 0.0047 - tp: 952.0000 - auc: 0.8832 - val_loss: 9.9554e-04 - val_tp: 0.0000e+00 - val_auc: 0.9284\n",
            "\n",
            "Epoch 00040: LearningRateScheduler reducing learning rate to 1.14e-05.\n",
            "Epoch 40/40\n",
            "304/304 [==============================] - ETA: 0s - loss: 0.0045 - tp: 991.0000 - auc: 0.8922\n",
            "Epoch 00040: saving model to weights-3-40-0.930.h5\n",
            "304/304 [==============================] - 199s 654ms/step - loss: 0.0045 - tp: 991.0000 - auc: 0.8922 - val_loss: 0.0010 - val_tp: 0.0000e+00 - val_auc: 0.9304\n"
          ],
          "name": "stdout"
        },
        {
          "output_type": "display_data",
          "data": {
            "image/png": "[encoded data removed]",
            "text/plain": [
              "<Figure size 864x720 with 1 Axes>"
            ]
          },
          "metadata": {
            "tags": [],
            "needs_background": "light"
          }
        },
        {
          "output_type": "display_data",
          "data": {
            "image/png": "[encoded data removed]",
            "text/plain": [
              "<Figure size 864x720 with 1 Axes>"
            ]
          },
          "metadata": {
            "tags": [],
            "needs_background": "light"
          }
        },
        {
          "output_type": "stream",
          "text": [
            "   2/2144 [..............................] - ETA: 4:17:17WARNING:tensorflow:Callbacks method `on_predict_batch_end` is slow compared to the batch time (batch time: 0.0118s vs `on_predict_batch_end` time: 0.1087s). Check your callbacks.\n"
          ],
          "name": "stdout"
        },
        {
          "output_type": "stream",
          "text": [
            "WARNING:tensorflow:Callbacks method `on_predict_batch_end` is slow compared to the batch time (batch time: 0.0118s vs `on_predict_batch_end` time: 0.1087s). Check your callbacks.\n"
          ],
          "name": "stderr"
        },
        {
          "output_type": "stream",
          "text": [
            "2145/2144 [==============================] - 245s 114ms/step\n",
            "        image_name    target\n",
            "9905  ISIC_0052060  0.182490\n",
            "1443  ISIC_0052349  0.174312\n",
            "3120  ISIC_0058510  0.182669\n",
            "4870  ISIC_0073313  0.175042\n",
            "5494  ISIC_0073502  0.214829\n",
            "...            ...       ...\n",
            "5994  ISIC_9992485  0.191111\n",
            "3980  ISIC_9996992  0.277185\n",
            "6974  ISIC_9997917  0.233295\n",
            "1278  ISIC_9998234  0.175703\n",
            "3384  ISIC_9999302  0.241601\n",
            "\n",
            "[10982 rows x 2 columns]\n",
            "history_fold-3_model-b6.csv      weights-2-30-0.886.h5\n",
            "submission-3-model-b6TTA_25.csv  weights-3-35-0.930.h5\n",
            "weights-0-05-0.475.h5            weights-3-40-0.930.h5\n",
            "weights-0-10-0.699.h5            weights_fold-0_model-b6.h5\n",
            "weights-1-15-0.830.h5            weights_fold-1_model-b6.h5\n",
            "weights-1-20-0.867.h5            weights_fold-2_model-b6.h5\n",
            "weights-2-25-0.863.h5            weights_fold-3_model-b6.h5\n"
          ],
          "name": "stdout"
        }
      ]
    },
    {
      "cell_type": "code",
      "metadata": {
        "id": "Mpp8VGsgZFfz"
      },
      "source": [
        ""
      ],
      "execution_count": null,
      "outputs": []
    }
  ]
}