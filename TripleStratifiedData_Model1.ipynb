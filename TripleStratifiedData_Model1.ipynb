{
  "nbformat": 4,
  "nbformat_minor": 0,
  "metadata": {
    "kernelspec": {
      "language": "python",
      "display_name": "Python 3",
      "name": "python3"
    },
    "language_info": {
      "pygments_lexer": "ipython3",
      "nbconvert_exporter": "python",
      "version": "3.6.4",
      "file_extension": ".py",
      "codemirror_mode": {
        "name": "ipython",
        "version": 3
      },
      "name": "python",
      "mimetype": "text/x-python"
    },
    "colab": {
      "name": "TripleStratifiedData_Model1.ipynb",
      "provenance": [],
      "collapsed_sections": []
    }
  },
  "cells": [
    {
      "cell_type": "code",
      "metadata": {
        "id": "zFAZM6U-12WW"
      },
      "source": [
        "FOLD_SELECT = 0"
      ],
      "execution_count": null,
      "outputs": []
    },
    {
      "cell_type": "code",
      "metadata": {
        "_uuid": "8f2839f25d086af736a60e9eeb907d3b93b6e0e5",
        "_cell_guid": "b1076dfc-b9ad-4769-8c92-a6c4dae69d19",
        "trusted": true,
        "id": "BP8vFrKMp6Nt"
      },
      "source": [
        "import os\n",
        "import re\n",
        "import math\n",
        "import random\n",
        "import numpy as np\n",
        "import pandas as pd\n",
        "\n",
        "import matplotlib as mpl\n",
        "import matplotlib.pyplot as plt\n",
        "\n",
        "import tensorflow as tf\n",
        "import tensorflow_addons as tfa\n",
        "import tensorflow.keras.layers as L\n",
        "\n",
        "from sklearn.model_selection import KFold"
      ],
      "execution_count": null,
      "outputs": []
    },
    {
      "cell_type": "code",
      "metadata": {
        "trusted": true,
        "id": "Qf2EIOpup6Nx"
      },
      "source": [
        "!pip install -q efficientnet\n",
        "import efficientnet.tfkeras as efn"
      ],
      "execution_count": null,
      "outputs": []
    },
    {
      "cell_type": "code",
      "metadata": {
        "_uuid": "d629ff2d2480ee46fbb7e2d37f6b5fab8052498a",
        "_cell_guid": "79c7e3d0-c299-4dcb-8224-4455121ee9b0",
        "trusted": true,
        "id": "lzeqa82gp6Nz",
        "colab": {
          "base_uri": "https://localhost:8080/",
          "height": 124
        },
        "outputId": "e098ae90-01be-4903-eb80-9901fc2a881b"
      },
      "source": [
        "from google.colab import drive\n",
        "drive.mount('/content/gdrive')"
      ],
      "execution_count": null,
      "outputs": [
        {
          "output_type": "stream",
          "text": [
            "Go to this URL in a browser: https://accounts.google.com/o/oauth2/auth?client_id=947318989803-6bn6qk8qdgf4n4g3pfee6491hc0brc4i.apps.googleusercontent.com&redirect_uri=urn%3aietf%3awg%3aoauth%3a2.0%3aoob&response_type=code&scope=email%20https%3a%2f%2fwww.googleapis.com%2fauth%2fdocs.test%20https%3a%2f%2fwww.googleapis.com%2fauth%2fdrive%20https%3a%2f%2fwww.googleapis.com%2fauth%2fdrive.photos.readonly%20https%3a%2f%2fwww.googleapis.com%2fauth%2fpeopleapi.readonly\n",
            "\n",
            "Enter your authorization code:\n",
            "··········\n",
            "Mounted at /content/gdrive\n"
          ],
          "name": "stdout"
        }
      ]
    },
    {
      "cell_type": "code",
      "metadata": {
        "id": "_nFAB8W00TaN",
        "colab": {
          "base_uri": "https://localhost:8080/",
          "height": 277
        },
        "outputId": "27a01521-de8f-4313-82d2-bdab59c82bf0"
      },
      "source": [
        "\"\"\"\n",
        "%cd /content/gdrive/My Drive/kaggle/B4_512_perFold/\n",
        "%ls\n",
        "\"\"\""
      ],
      "execution_count": null,
      "outputs": [
        {
          "output_type": "stream",
          "text": [
            "/content/gdrive/My Drive/kaggle/B4_512_perFold\n",
            "history_fold-0_model-b4_.csv           weights-1-10-0.900.h5\n",
            "history_fold-1_model-b4_.csv           weights-1-15-0.908.h5\n",
            "history_fold-2_model-b4_.csv           weights-1-20-0.920.h5\n",
            "history_fold-3_model-b4_.csv           weights-1-25-0.923.h5\n",
            "submission_fold-0_model-b4_TTA-10.csv  weights-2-05-0.799.h5\n",
            "submission_fold-1_model-b4_TTA-10.csv  weights-2-10-0.872.h5\n",
            "submission_fold-2_model-b4_TTA-10.csv  weights-2-15-0.908.h5\n",
            "submission_fold-3_model-b4_TTA-10.csv  weights-2-20-0.913.h5\n",
            "weights-0-05-0.814.h5                  weights-2-25-0.914.h5\n",
            "weights-0-10-0.862.h5                  weights-3-05-0.717.h5\n",
            "weights-0-15-0.870.h5                  weights-3-10-0.809.h5\n",
            "weights-0-20-0.890.h5                  weights-3-15-0.859.h5\n",
            "weights-0-25-0.899.h5                  weights-3-20-0.848.h5\n",
            "weights-1-05-0.795.h5                  weights-3-25-0.851.h5\n"
          ],
          "name": "stdout"
        }
      ]
    },
    {
      "cell_type": "code",
      "metadata": {
        "id": "0ai0J_ak0TWl",
        "colab": {
          "base_uri": "https://localhost:8080/",
          "height": 277
        },
        "outputId": "7b930e71-bc37-4403-dd18-ed3a805fa076"
      },
      "source": [
        "\"\"\"\n",
        "sub = []\n",
        "for i in range(4):\n",
        "  sub.append(pd.read_csv('submission_fold-%i_model-b4_TTA-10.csv' %i))\n",
        "\n",
        "t = np.zeros(10982)\n",
        "for i in range(4):\n",
        "  t += sub[i].target\n",
        "t /= 4\n",
        "\n",
        "sub_f = sub[0].copy()\n",
        "sub_f.target = t\n",
        "sub_f.to_csv('sub_average.csv', index = False)\n",
        "\n",
        "%ls\n",
        "\"\"\""
      ],
      "execution_count": null,
      "outputs": [
        {
          "output_type": "stream",
          "text": [
            "history_fold-0_model-b4_.csv           weights-1-10-0.900.h5\n",
            "history_fold-1_model-b4_.csv           weights-1-15-0.908.h5\n",
            "history_fold-2_model-b4_.csv           weights-1-20-0.920.h5\n",
            "history_fold-3_model-b4_.csv           weights-1-25-0.923.h5\n",
            "sub_average.csv                        weights-2-05-0.799.h5\n",
            "submission_fold-0_model-b4_TTA-10.csv  weights-2-10-0.872.h5\n",
            "submission_fold-1_model-b4_TTA-10.csv  weights-2-15-0.908.h5\n",
            "submission_fold-2_model-b4_TTA-10.csv  weights-2-20-0.913.h5\n",
            "submission_fold-3_model-b4_TTA-10.csv  weights-2-25-0.914.h5\n",
            "weights-0-05-0.814.h5                  weights-3-05-0.717.h5\n",
            "weights-0-10-0.862.h5                  weights-3-10-0.809.h5\n",
            "weights-0-15-0.870.h5                  weights-3-15-0.859.h5\n",
            "weights-0-20-0.890.h5                  weights-3-20-0.848.h5\n",
            "weights-0-25-0.899.h5                  weights-3-25-0.851.h5\n",
            "weights-1-05-0.795.h5\n"
          ],
          "name": "stdout"
        }
      ]
    },
    {
      "cell_type": "code",
      "metadata": {
        "trusted": true,
        "id": "3DbW6jJNp6N2",
        "colab": {
          "base_uri": "https://localhost:8080/",
          "height": 745
        },
        "outputId": "a08ce387-e349-497b-926d-387fd65f734e"
      },
      "source": [
        "try:\n",
        "    # TPU detection. No parameters necessary if TPU_NAME environment variable is\n",
        "    # set: this is always the case on Kaggle.\n",
        "    tpu = tf.distribute.cluster_resolver.TPUClusterResolver()\n",
        "    print('Running on TPU ', tpu.master())\n",
        "except ValueError:\n",
        "    tpu = None\n",
        "\n",
        "if tpu:\n",
        "    tf.config.experimental_connect_to_cluster(tpu)\n",
        "    tf.tpu.experimental.initialize_tpu_system(tpu)\n",
        "    strategy = tf.distribute.experimental.TPUStrategy(tpu)\n",
        "else:\n",
        "    # Default distribution strategy in Tensorflow. Works on CPU and single GPU.\n",
        "    strategy = tf.distribute.get_strategy()\n",
        "\n",
        "print(\"REPLICAS: \", strategy.num_replicas_in_sync)\n",
        "REPLICAS = strategy.num_replicas_in_sync"
      ],
      "execution_count": null,
      "outputs": [
        {
          "output_type": "stream",
          "text": [
            "Running on TPU  grpc://10.56.74.194:8470\n",
            "INFO:tensorflow:Initializing the TPU system: grpc://10.56.74.194:8470\n"
          ],
          "name": "stdout"
        },
        {
          "output_type": "stream",
          "text": [
            "INFO:tensorflow:Initializing the TPU system: grpc://10.56.74.194:8470\n"
          ],
          "name": "stderr"
        },
        {
          "output_type": "stream",
          "text": [
            "INFO:tensorflow:Clearing out eager caches\n"
          ],
          "name": "stdout"
        },
        {
          "output_type": "stream",
          "text": [
            "INFO:tensorflow:Clearing out eager caches\n"
          ],
          "name": "stderr"
        },
        {
          "output_type": "stream",
          "text": [
            "INFO:tensorflow:Finished initializing TPU system.\n"
          ],
          "name": "stdout"
        },
        {
          "output_type": "stream",
          "text": [
            "INFO:tensorflow:Finished initializing TPU system.\n"
          ],
          "name": "stderr"
        },
        {
          "output_type": "stream",
          "text": [
            "INFO:tensorflow:Found TPU system:\n"
          ],
          "name": "stdout"
        },
        {
          "output_type": "stream",
          "text": [
            "INFO:tensorflow:Found TPU system:\n"
          ],
          "name": "stderr"
        },
        {
          "output_type": "stream",
          "text": [
            "INFO:tensorflow:*** Num TPU Cores: 8\n"
          ],
          "name": "stdout"
        },
        {
          "output_type": "stream",
          "text": [
            "INFO:tensorflow:*** Num TPU Cores: 8\n"
          ],
          "name": "stderr"
        },
        {
          "output_type": "stream",
          "text": [
            "INFO:tensorflow:*** Num TPU Workers: 1\n"
          ],
          "name": "stdout"
        },
        {
          "output_type": "stream",
          "text": [
            "INFO:tensorflow:*** Num TPU Workers: 1\n"
          ],
          "name": "stderr"
        },
        {
          "output_type": "stream",
          "text": [
            "INFO:tensorflow:*** Num TPU Cores Per Worker: 8\n"
          ],
          "name": "stdout"
        },
        {
          "output_type": "stream",
          "text": [
            "INFO:tensorflow:*** Num TPU Cores Per Worker: 8\n"
          ],
          "name": "stderr"
        },
        {
          "output_type": "stream",
          "text": [
            "INFO:tensorflow:*** Available Device: _DeviceAttributes(/job:localhost/replica:0/task:0/device:CPU:0, CPU, 0, 0)\n"
          ],
          "name": "stdout"
        },
        {
          "output_type": "stream",
          "text": [
            "INFO:tensorflow:*** Available Device: _DeviceAttributes(/job:localhost/replica:0/task:0/device:CPU:0, CPU, 0, 0)\n"
          ],
          "name": "stderr"
        },
        {
          "output_type": "stream",
          "text": [
            "INFO:tensorflow:*** Available Device: _DeviceAttributes(/job:localhost/replica:0/task:0/device:XLA_CPU:0, XLA_CPU, 0, 0)\n"
          ],
          "name": "stdout"
        },
        {
          "output_type": "stream",
          "text": [
            "INFO:tensorflow:*** Available Device: _DeviceAttributes(/job:localhost/replica:0/task:0/device:XLA_CPU:0, XLA_CPU, 0, 0)\n"
          ],
          "name": "stderr"
        },
        {
          "output_type": "stream",
          "text": [
            "INFO:tensorflow:*** Available Device: _DeviceAttributes(/job:worker/replica:0/task:0/device:CPU:0, CPU, 0, 0)\n"
          ],
          "name": "stdout"
        },
        {
          "output_type": "stream",
          "text": [
            "INFO:tensorflow:*** Available Device: _DeviceAttributes(/job:worker/replica:0/task:0/device:CPU:0, CPU, 0, 0)\n"
          ],
          "name": "stderr"
        },
        {
          "output_type": "stream",
          "text": [
            "INFO:tensorflow:*** Available Device: _DeviceAttributes(/job:worker/replica:0/task:0/device:TPU:0, TPU, 0, 0)\n"
          ],
          "name": "stdout"
        },
        {
          "output_type": "stream",
          "text": [
            "INFO:tensorflow:*** Available Device: _DeviceAttributes(/job:worker/replica:0/task:0/device:TPU:0, TPU, 0, 0)\n"
          ],
          "name": "stderr"
        },
        {
          "output_type": "stream",
          "text": [
            "INFO:tensorflow:*** Available Device: _DeviceAttributes(/job:worker/replica:0/task:0/device:TPU:1, TPU, 0, 0)\n"
          ],
          "name": "stdout"
        },
        {
          "output_type": "stream",
          "text": [
            "INFO:tensorflow:*** Available Device: _DeviceAttributes(/job:worker/replica:0/task:0/device:TPU:1, TPU, 0, 0)\n"
          ],
          "name": "stderr"
        },
        {
          "output_type": "stream",
          "text": [
            "INFO:tensorflow:*** Available Device: _DeviceAttributes(/job:worker/replica:0/task:0/device:TPU:2, TPU, 0, 0)\n"
          ],
          "name": "stdout"
        },
        {
          "output_type": "stream",
          "text": [
            "INFO:tensorflow:*** Available Device: _DeviceAttributes(/job:worker/replica:0/task:0/device:TPU:2, TPU, 0, 0)\n"
          ],
          "name": "stderr"
        },
        {
          "output_type": "stream",
          "text": [
            "INFO:tensorflow:*** Available Device: _DeviceAttributes(/job:worker/replica:0/task:0/device:TPU:3, TPU, 0, 0)\n"
          ],
          "name": "stdout"
        },
        {
          "output_type": "stream",
          "text": [
            "INFO:tensorflow:*** Available Device: _DeviceAttributes(/job:worker/replica:0/task:0/device:TPU:3, TPU, 0, 0)\n"
          ],
          "name": "stderr"
        },
        {
          "output_type": "stream",
          "text": [
            "INFO:tensorflow:*** Available Device: _DeviceAttributes(/job:worker/replica:0/task:0/device:TPU:4, TPU, 0, 0)\n"
          ],
          "name": "stdout"
        },
        {
          "output_type": "stream",
          "text": [
            "INFO:tensorflow:*** Available Device: _DeviceAttributes(/job:worker/replica:0/task:0/device:TPU:4, TPU, 0, 0)\n"
          ],
          "name": "stderr"
        },
        {
          "output_type": "stream",
          "text": [
            "INFO:tensorflow:*** Available Device: _DeviceAttributes(/job:worker/replica:0/task:0/device:TPU:5, TPU, 0, 0)\n"
          ],
          "name": "stdout"
        },
        {
          "output_type": "stream",
          "text": [
            "INFO:tensorflow:*** Available Device: _DeviceAttributes(/job:worker/replica:0/task:0/device:TPU:5, TPU, 0, 0)\n"
          ],
          "name": "stderr"
        },
        {
          "output_type": "stream",
          "text": [
            "INFO:tensorflow:*** Available Device: _DeviceAttributes(/job:worker/replica:0/task:0/device:TPU:6, TPU, 0, 0)\n"
          ],
          "name": "stdout"
        },
        {
          "output_type": "stream",
          "text": [
            "INFO:tensorflow:*** Available Device: _DeviceAttributes(/job:worker/replica:0/task:0/device:TPU:6, TPU, 0, 0)\n"
          ],
          "name": "stderr"
        },
        {
          "output_type": "stream",
          "text": [
            "INFO:tensorflow:*** Available Device: _DeviceAttributes(/job:worker/replica:0/task:0/device:TPU:7, TPU, 0, 0)\n"
          ],
          "name": "stdout"
        },
        {
          "output_type": "stream",
          "text": [
            "INFO:tensorflow:*** Available Device: _DeviceAttributes(/job:worker/replica:0/task:0/device:TPU:7, TPU, 0, 0)\n"
          ],
          "name": "stderr"
        },
        {
          "output_type": "stream",
          "text": [
            "INFO:tensorflow:*** Available Device: _DeviceAttributes(/job:worker/replica:0/task:0/device:TPU_SYSTEM:0, TPU_SYSTEM, 0, 0)\n"
          ],
          "name": "stdout"
        },
        {
          "output_type": "stream",
          "text": [
            "INFO:tensorflow:*** Available Device: _DeviceAttributes(/job:worker/replica:0/task:0/device:TPU_SYSTEM:0, TPU_SYSTEM, 0, 0)\n"
          ],
          "name": "stderr"
        },
        {
          "output_type": "stream",
          "text": [
            "INFO:tensorflow:*** Available Device: _DeviceAttributes(/job:worker/replica:0/task:0/device:XLA_CPU:0, XLA_CPU, 0, 0)\n"
          ],
          "name": "stdout"
        },
        {
          "output_type": "stream",
          "text": [
            "INFO:tensorflow:*** Available Device: _DeviceAttributes(/job:worker/replica:0/task:0/device:XLA_CPU:0, XLA_CPU, 0, 0)\n"
          ],
          "name": "stderr"
        },
        {
          "output_type": "stream",
          "text": [
            "REPLICAS:  8\n"
          ],
          "name": "stdout"
        }
      ]
    },
    {
      "cell_type": "code",
      "metadata": {
        "trusted": true,
        "id": "qG68-L36p6N5"
      },
      "source": [
        "DIM = 512\n",
        "EPOCHS = 25\n",
        "INITIAL_EPOCH = 0\n",
        "NET_SELECT = 4\n",
        "num_str = 'model-b4_'\n",
        "\n",
        "INC2019 = 0\n",
        "INC2018 = 1\n",
        "\n",
        "TTA = 10\n",
        "\n",
        "BATCH_SIZE = 8*strategy.num_replicas_in_sync\n",
        "\n",
        "FOLDS = 5\n",
        "idxT = []; idxV = []\n",
        "LEN = np.arange(15)\n",
        "\n",
        "SEED = 250\n",
        "AUTO = tf.data.experimental.AUTOTUNE\n",
        "IMAGE_SIZE= [DIM, DIM]   \n",
        "WEIGHTS = 'noisy-student'\n",
        "\n",
        "effnet = [efn.EfficientNetB0, efn.EfficientNetB1, efn.EfficientNetB2, efn.EfficientNetB3, efn.EfficientNetB4, efn.EfficientNetB5,\n",
        "          efn.EfficientNetB6, efn.EfficientNetB7]"
      ],
      "execution_count": null,
      "outputs": []
    },
    {
      "cell_type": "code",
      "metadata": {
        "trusted": true,
        "id": "1YtRfoT-p6N7"
      },
      "source": [
        "skf = KFold(n_splits = FOLDS, shuffle = True, random_state = SEED)\n",
        "for fold,(idx_t,idx_val) in enumerate(skf.split(np.arange(15))):\n",
        "    if fold == FOLD_SELECT:\n",
        "        idxT = idx_t\n",
        "        idxV = idx_val"
      ],
      "execution_count": null,
      "outputs": []
    },
    {
      "cell_type": "code",
      "metadata": {
        "trusted": true,
        "id": "07sQ910-p6N9",
        "colab": {
          "base_uri": "https://localhost:8080/",
          "height": 35
        },
        "outputId": "8a02c33a-cb55-4101-e35e-325d8b6e5eb6"
      },
      "source": [
        "print('Validation index: ', idxV)"
      ],
      "execution_count": null,
      "outputs": [
        {
          "output_type": "stream",
          "text": [
            "Validation index:  [0 7 9]\n"
          ],
          "name": "stdout"
        }
      ]
    },
    {
      "cell_type": "code",
      "metadata": {
        "trusted": true,
        "id": "o7-DVMOip6OC"
      },
      "source": [
        "GCS_PATH1 = 'gs://kds-154649568d837568b1118f54c8293475e4b9686f2f6b0d89c6a2183e'\n",
        "GCS_PATH2 = 'gs://kds-823a9066a531d4a2cb81f281a88a2235b28df4699c8eaf2a0b1f5208'"
      ],
      "execution_count": null,
      "outputs": []
    },
    {
      "cell_type": "code",
      "metadata": {
        "trusted": true,
        "id": "g06jSVkXp6OE"
      },
      "source": [
        "TRAINING_FILENAMES = tf.io.gfile.glob(GCS_PATH1 + '/train%.2i*.tfrec' %x for x in idxT)\n",
        "VALIDATION_FILENAMES = tf.io.gfile.glob(GCS_PATH1 + '/train%.2i*.tfrec' %x for x in idxV)\n",
        "TEST_FILENAMES = tf.io.gfile.glob(GCS_PATH1 + '/test*.tfrec')\n",
        "\n",
        "if INC2019:\n",
        "    TRAINING_FILENAMES += tf.io.gfile.glob([GCS_PATH2 + '/train%.2i*.tfrec' %x for x in LEN*2 + 1])\n",
        "if INC2018:\n",
        "    TRAINING_FILENAMES += tf.io.gfile.glob([GCS_PATH2 + '/train%.2i*.tfrec'%x for x in LEN*2])"
      ],
      "execution_count": null,
      "outputs": []
    },
    {
      "cell_type": "code",
      "metadata": {
        "trusted": true,
        "id": "ncAEjEBOp6OF",
        "colab": {
          "base_uri": "https://localhost:8080/",
          "height": 35
        },
        "outputId": "2c68179a-1292-40a3-bd9f-5d19e327600f"
      },
      "source": [
        "print('Number of training files: ', len(TRAINING_FILENAMES))"
      ],
      "execution_count": null,
      "outputs": [
        {
          "output_type": "stream",
          "text": [
            "Number of training files:  27\n"
          ],
          "name": "stdout"
        }
      ]
    },
    {
      "cell_type": "code",
      "metadata": {
        "trusted": true,
        "id": "VYuOjr-Fp6OI"
      },
      "source": [
        "train_1 = pd.read_csv('/content/gdrive/My Drive/kaggle/jpeg-melanoma-768x768/train.csv')\n",
        "train_2 = pd.read_csv('/content/gdrive/My Drive/kaggle/jpeg-isic2019-768x768/train.csv')\n",
        "\n",
        "train = pd.DataFrame(pd.concat([train_1, train_2]))\n",
        "Y = pd.DataFrame(pd.concat([train_1.target, train_2.target]))"
      ],
      "execution_count": null,
      "outputs": []
    },
    {
      "cell_type": "code",
      "metadata": {
        "trusted": true,
        "id": "H9LzP9Mjp6OK"
      },
      "source": [
        "mean = train.age_approx.mean()\n",
        "std = train.age_approx.std()"
      ],
      "execution_count": null,
      "outputs": []
    },
    {
      "cell_type": "code",
      "metadata": {
        "id": "uLWBZBFFq672",
        "colab": {
          "base_uri": "https://localhost:8080/",
          "height": 35
        },
        "outputId": "ff74a5d4-4e18-43dc-8ea5-7bd9e014d8e6"
      },
      "source": [
        "%cd /content/gdrive/My Drive/kaggle/B4_512_perFold/"
      ],
      "execution_count": null,
      "outputs": [
        {
          "output_type": "stream",
          "text": [
            "/content/gdrive/My Drive/kaggle/B4_512_perFold\n"
          ],
          "name": "stdout"
        }
      ]
    },
    {
      "cell_type": "code",
      "metadata": {
        "id": "vE6GHEdotSBW",
        "colab": {
          "base_uri": "https://localhost:8080/",
          "height": 208
        },
        "outputId": "506423ac-c958-45d5-f3fb-7abe84370618"
      },
      "source": [
        "%ls"
      ],
      "execution_count": null,
      "outputs": [
        {
          "output_type": "stream",
          "text": [
            "history_fold-0_model-b4_.csv           weights-1-05-0.795.h5\n",
            "history_fold-1_model-b4_.csv           weights-1-10-0.900.h5\n",
            "history_fold-2_model-b4_.csv           weights-1-15-0.908.h5\n",
            "submission_fold-0_model-b4_TTA-10.csv  weights-1-20-0.920.h5\n",
            "submission_fold-1_model-b4_TTA-10.csv  weights-1-25-0.923.h5\n",
            "submission_fold-2_model-b4_TTA-10.csv  weights-2-05-0.799.h5\n",
            "weights-0-05-0.814.h5                  weights-2-10-0.872.h5\n",
            "weights-0-10-0.862.h5                  weights-2-15-0.908.h5\n",
            "weights-0-15-0.870.h5                  weights-2-20-0.913.h5\n",
            "weights-0-20-0.890.h5                  weights-2-25-0.914.h5\n",
            "weights-0-25-0.899.h5\n"
          ],
          "name": "stdout"
        }
      ]
    },
    {
      "cell_type": "code",
      "metadata": {
        "trusted": true,
        "id": "-upVx_OOp6OM"
      },
      "source": [
        "def prepare_image(data, augment = False):\n",
        "    image = data['CNN_inp']\n",
        "    \n",
        "    image = tf.image.decode_jpeg(image, channels = 3)\n",
        "    image = tf.cast(image, tf.float32)/255.0\n",
        "    image = tf.reshape(image, [*IMAGE_SIZE, 3]) # explicit size needed for TPU\n",
        "    \n",
        "    if augment:\n",
        "        image = transform(image)\n",
        "        image = tf.image.random_flip_left_right(image)\n",
        "        image = tf.image.random_flip_up_down(image)\n",
        "        image = tf.image.random_saturation(image, 0.8, 1.2)\n",
        "        image = tf.image.random_contrast(image, 0.8, 1.2)\n",
        "        image = tf.image.random_brightness(image, 0.1)\n",
        "    \n",
        "    data['CNN_inp'] = image\n",
        "    return data"
      ],
      "execution_count": null,
      "outputs": []
    },
    {
      "cell_type": "code",
      "metadata": {
        "trusted": true,
        "id": "mAcwbt-np6ON"
      },
      "source": [
        "tab_feats = [\n",
        "    'sex',\n",
        "    'age_approx',\n",
        "]\n",
        "\n",
        "N_TAB_FEATS = len(tab_feats)\n",
        "\n",
        "def setup_input(image, label, data):\n",
        "    tab_data = [tf.cast(data[tfeat], dtype = tf.float32) for tfeat in tab_feats]\n",
        "    tabular = tf.stack(tab_data)\n",
        "    return {'CNN_inp': image, 'TAB_inp':  tabular}, label\n",
        "\n",
        "def setup_test_image(image, image_name, data):    \n",
        "    tab_data = [tf.cast(data[tfeat], dtype=tf.float32) for tfeat in tab_feats]\n",
        "    tabular = tf.stack(tab_data)\n",
        "    return {'CNN_inp': image, 'TAB_inp':  tabular}, image_name\n",
        "\n",
        "def count_data_items(filenames):\n",
        "    # the number of data items is written in the name of the .tfrec files\n",
        "    n = [int(re.compile(r\"-([0-9]*)\\.\").search(filename).group(1)) for filename in filenames]\n",
        "    return np.sum(n)"
      ],
      "execution_count": null,
      "outputs": []
    },
    {
      "cell_type": "code",
      "metadata": {
        "trusted": true,
        "id": "BLtfdn15p6OP"
      },
      "source": [
        "def read_labeled_tfrecord(example):\n",
        "    LABELED_TFREC_FORMAT = {\n",
        "        \"image\": tf.io.FixedLenFeature([], tf.string), # tf.string means bytestring\n",
        "        \"image_name\": tf.io.FixedLenFeature([], tf.string), # shape [] means single element\n",
        "        \"sex\": tf.io.FixedLenFeature([], tf.int64),\n",
        "        \"age_approx\": tf.io.FixedLenFeature([], tf.int64),\n",
        "        \"target\": tf.io.FixedLenFeature([], tf.int64),  \n",
        "    }\n",
        "    \n",
        "    example = tf.io.parse_single_example(example, LABELED_TFREC_FORMAT)\n",
        "    \n",
        "    image = example['image']\n",
        "    label = tf.cast(example['target'], tf.int32)\n",
        "    \n",
        "    data = {}\n",
        "    data['image_name'] = tf.cast(example['image_name'], tf.string)\n",
        "    data['sex'] = tf.cast(example['sex'], tf.int64)\n",
        "    data['age_approx'] = (tf.cast(example['age_approx'], tf.float32) - mean)/std\n",
        "    \n",
        "    return image, label, data"
      ],
      "execution_count": null,
      "outputs": []
    },
    {
      "cell_type": "code",
      "metadata": {
        "trusted": true,
        "id": "pqT2OlQNp6OR"
      },
      "source": [
        "def read_unlabeled_tfrecord(example):\n",
        "    UNLABELED_TFREC_FORMAT = {\n",
        "        \"image\": tf.io.FixedLenFeature([], tf.string), # tf.string means bytestring\n",
        "        \"image_name\": tf.io.FixedLenFeature([], tf.string),  # shape [] means single element\n",
        "        \"sex\": tf.io.FixedLenFeature([], tf.int64),\n",
        "        \"age_approx\": tf.io.FixedLenFeature([], tf.int64),\n",
        "    }\n",
        "    \n",
        "    example = tf.io.parse_single_example(example, UNLABELED_TFREC_FORMAT)\n",
        "    \n",
        "    image = example['image']\n",
        "    image_name = example['image_name']\n",
        "    \n",
        "    data = {}\n",
        "    data['image_name'] = image_name\n",
        "    data['sex'] = tf.cast(example['sex'], tf.int64)\n",
        "    data['age_approx'] = (tf.cast(example['age_approx'], tf.float32) - mean)/std\n",
        "    \n",
        "    return image, image_name, data"
      ],
      "execution_count": null,
      "outputs": []
    },
    {
      "cell_type": "code",
      "metadata": {
        "trusted": true,
        "id": "Rh85bAOip6OT"
      },
      "source": [
        "def get_dataset(files, augmented = False, shuffle = False, repeat = False, labeled = False):\n",
        "    \n",
        "    dataset = tf.data.TFRecordDataset(files, num_parallel_reads = AUTO)\n",
        "    dataset = dataset.cache()\n",
        "    \n",
        "    if repeat:\n",
        "        dataset = dataset.repeat()\n",
        "        \n",
        "    if shuffle: \n",
        "        dataset = dataset.shuffle(1024*8)\n",
        "        opt = tf.data.Options()\n",
        "        opt.experimental_deterministic = False\n",
        "        dataset = dataset.with_options(opt)\n",
        "    \n",
        "    if labeled:\n",
        "        dataset = dataset.map(read_labeled_tfrecord, num_parallel_calls = AUTO)\n",
        "        dataset = dataset.map(setup_input, num_parallel_calls = AUTO)\n",
        "    else:\n",
        "        dataset = dataset.map(read_unlabeled_tfrecord, num_parallel_calls = AUTO)\n",
        "        dataset = dataset.map(setup_test_image, num_parallel_calls = AUTO)\n",
        "    \n",
        "    dataset = dataset.map(lambda data, imagename_or_label : (prepare_image(data, augment = augmented), imagename_or_label),\n",
        "                          num_parallel_calls = AUTO)\n",
        "    \n",
        "    dataset = dataset.batch(BATCH_SIZE)\n",
        "    dataset = dataset.prefetch(AUTO)\n",
        "    \n",
        "    return dataset"
      ],
      "execution_count": null,
      "outputs": []
    },
    {
      "cell_type": "code",
      "metadata": {
        "trusted": true,
        "id": "Q0bMt06Ip6OV"
      },
      "source": [
        "####variables to set extent of image augmentation.\n",
        "ROT_ = 90.0\n",
        "HZOOM_ = 8.0\n",
        "WZOOM_ = 8.0\n",
        "HSHIFT_ = 8.0\n",
        "WSHIFT_ = 8.0\n",
        "\n",
        "def get_mat(rotation, height_zoom, width_zoom, height_shift, width_shift):\n",
        "    # returns 3x3 transformmatrix which transforms indicies\n",
        "\n",
        "    def get_3x3_mat(mat):\n",
        "        return tf.reshape(tf.concat([mat], axis = 0), [3, 3])\n",
        "    \n",
        "    # ROTATION MATRIX\n",
        "    cos = tf.math.cos(rotation)\n",
        "    sin = tf.math.sin(rotation)\n",
        "    one = tf.constant([1], dtype = 'float32')\n",
        "    zero = tf.constant([0], dtype = 'float32')\n",
        "    \n",
        "    rotation_matrix = get_3x3_mat([cos, sin ,zero,\n",
        "                                   -sin, cos, zero,\n",
        "                                   zero, zero, one])        \n",
        "           \n",
        "    # ZOOM MATRIX\n",
        "    zoom_matrix = get_3x3_mat([one/height_zoom, zero, zero,\n",
        "                               zero, one/width_zoom, zero, \n",
        "                               zero, zero, one])    \n",
        "    # SHIFT MATRIX\n",
        "    shift_matrix = get_3x3_mat([one, zero, height_shift, \n",
        "                                zero, one, width_shift, \n",
        "                                zero, zero, one])\n",
        "    \n",
        "    return tf.keras.backend.dot(rotation_matrix, tf.keras.backend.dot(zoom_matrix, shift_matrix))\n",
        "\n",
        "def transform(image):\n",
        "    XDIM = DIM%2\n",
        "    \n",
        "    rot = ROT_*tf.random.uniform([1])\n",
        "    rot = math.pi*rot/180.\n",
        "    \n",
        "    h_zoom = 1.0 + tf.random.normal([1], dtype = 'float32')/HZOOM_\n",
        "    w_zoom = 1.0 + tf.random.normal([1], dtype = 'float32')/WZOOM_\n",
        "    h_shift = HSHIFT_*tf.random.normal([1], dtype = 'float32') \n",
        "    w_shift = WSHIFT_*tf.random.normal([1], dtype = 'float32')\n",
        "    \n",
        "    m = get_mat(rot, h_zoom, w_zoom, h_shift, w_shift)\n",
        "\n",
        "    # LIST DESTINATION PIXEL INDICES\n",
        "    x = tf.repeat(tf.range(DIM//2, -DIM//2, -1), DIM)\n",
        "    y = tf.tile(tf.range(-DIM//2, DIM//2), [DIM])\n",
        "    z = tf.ones([DIM*DIM], dtype = 'int32')\n",
        "    idx = tf.stack([x,y,z])\n",
        "    \n",
        "    # ROTATE DESTINATION PIXELS ONTO ORIGIN PIXELS\n",
        "    idx2 = tf.keras.backend.dot(m, tf.cast(idx, dtype = 'float32'))\n",
        "    idx2 = tf.keras.backend.cast(idx2, dtype = 'int32')\n",
        "    idx2 = tf.keras.backend.clip(idx2, -DIM//2 + XDIM + 1, DIM//2)\n",
        "    \n",
        "    # FIND ORIGIN PIXEL VALUES           \n",
        "    idx3 = tf.stack([DIM//2 - idx2[0, ], DIM//2 - 1 + idx2[1,]])\n",
        "    d = tf.gather_nd(image, tf.transpose(idx3))\n",
        "        \n",
        "    return tf.reshape(d, [DIM, DIM, 3])"
      ],
      "execution_count": null,
      "outputs": []
    },
    {
      "cell_type": "code",
      "metadata": {
        "trusted": true,
        "id": "BfG7A9hcp6OX"
      },
      "source": [
        "def get_training_dataset():\n",
        "    dataset = get_dataset(TRAINING_FILENAMES,\n",
        "                          augmented = True,\n",
        "                          shuffle = True,\n",
        "                          repeat = True,\n",
        "                          labeled = True)\n",
        "    return dataset\n",
        "\n",
        "def get_validation_dataset():\n",
        "    dataset = get_dataset(VALIDATION_FILENAMES,\n",
        "                          augmented = False,\n",
        "                          shuffle = False,\n",
        "                          repeat = False,\n",
        "                          labeled = True)\n",
        "    return dataset\n",
        "\n",
        "def get_test_dataset(ordered = True):\n",
        "    dataset = get_dataset(TEST_FILENAMES,\n",
        "                          augmented = True,\n",
        "                          shuffle = False,\n",
        "                          repeat = True,\n",
        "                          labeled = False)\n",
        "    return dataset"
      ],
      "execution_count": null,
      "outputs": []
    },
    {
      "cell_type": "code",
      "metadata": {
        "trusted": true,
        "id": "QZEXz2Pcp6OZ",
        "colab": {
          "base_uri": "https://localhost:8080/",
          "height": 35
        },
        "outputId": "ff642320-de61-4894-b989-ba396762cbfe"
      },
      "source": [
        "NUM_TRAINING_IMAGES = count_data_items(TRAINING_FILENAMES)\n",
        "NUM_VALIDATION_IMAGES = count_data_items(VALIDATION_FILENAMES)\n",
        "NUM_TEST_IMAGES = count_data_items(TEST_FILENAMES)\n",
        "print('Dataset: {} training images, {} validation images, {} unlabeled test images'.format(NUM_TRAINING_IMAGES, NUM_VALIDATION_IMAGES, NUM_TEST_IMAGES))"
      ],
      "execution_count": null,
      "outputs": [
        {
          "output_type": "stream",
          "text": [
            "Dataset: 39017 training images, 6534 validation images, 10982 unlabeled test images\n"
          ],
          "name": "stdout"
        }
      ]
    },
    {
      "cell_type": "code",
      "metadata": {
        "trusted": true,
        "id": "q7iaeZlgp6Ob"
      },
      "source": [
        "neg, pos = np.bincount(Y.target)\n",
        "\n",
        "initial_bias = np.log(pos/neg)\n",
        "\n",
        "weight_for_0 = (1 / neg)*(pos + neg)/2.0 \n",
        "weight_for_1 = (1 / pos)*(pos + neg)/2.0\n",
        "classweights = {0: weight_for_0, 1: weight_for_1}\n",
        "\n",
        "STEPS_PER_EPOCH = NUM_TRAINING_IMAGES // BATCH_SIZE"
      ],
      "execution_count": null,
      "outputs": []
    },
    {
      "cell_type": "code",
      "metadata": {
        "trusted": true,
        "id": "MgYVeyvup6Od",
        "colab": {
          "base_uri": "https://localhost:8080/",
          "height": 35
        },
        "outputId": "bcdc1891-251d-4bb1-fbac-9c56048fe99f"
      },
      "source": [
        "\"\"\"\n",
        "import time\n",
        "\n",
        "start = time.time()\n",
        "for i, batch in enumerate(get_training_dataset()):\n",
        "    print(i, ', ', end = '')\n",
        "    if i >= STEPS_PER_EPOCH:\n",
        "        break\n",
        "        \n",
        "print('Elapsed time seconds = ', (time.time()-start))\n",
        "\"\"\"\n",
        "print('To check data loading time.')"
      ],
      "execution_count": null,
      "outputs": [
        {
          "output_type": "stream",
          "text": [
            "To check data loading time.\n"
          ],
          "name": "stdout"
        }
      ]
    },
    {
      "cell_type": "code",
      "metadata": {
        "trusted": true,
        "id": "FEHAHlxrp6Of",
        "colab": {
          "base_uri": "https://localhost:8080/",
          "height": 35
        },
        "outputId": "9884c396-d093-4d3e-e0b4-022c26f06ff7"
      },
      "source": [
        "\"\"\"\n",
        "def display_augmentation(train_batch, n_samples = 5, rows = 1, cols = 7):\n",
        "    \n",
        "    dataset_elements = iter(train_batch)\n",
        "    \n",
        "    for sample in range(n_samples):\n",
        "        elements = tf.data.Dataset.from_tensors(next(dataset_elements))\n",
        "        one_image_batch = elements.repeat().batch(rows*cols)\n",
        "        \n",
        "        for image, label_or_name in one_image_batch:\n",
        "            results = map(transform, image['CNN_inp'])\n",
        "            plt.figure(figsize=(15, int(15*rows/cols)))\n",
        "            for i, img in enumerate(list(results)):\n",
        "                plt.subplot(1, 7, i + 1)\n",
        "                plt.imshow(img)\n",
        "                plt.axis('off')\n",
        "            plt.show()\n",
        "            break\n",
        "            \n",
        "training_dataset = get_training_dataset()\n",
        "training_dataset = training_dataset.unbatch()\n",
        "train_batch = iter(training_dataset)\n",
        "\n",
        "display_augmentation(train_batch)\n",
        "\"\"\"\n",
        "print('To see images')"
      ],
      "execution_count": null,
      "outputs": [
        {
          "output_type": "stream",
          "text": [
            "To see images\n"
          ],
          "name": "stdout"
        }
      ]
    },
    {
      "cell_type": "code",
      "metadata": {
        "trusted": true,
        "id": "gnswWBVjp6Oi"
      },
      "source": [
        "with strategy.scope():\n",
        "    METRICS = [\n",
        "      tf.keras.metrics.TruePositives(name = 'tp'),\n",
        "      tf.keras.metrics.FalseNegatives(name = 'fn'), \n",
        "      tf.keras.metrics.AUC(name = 'auc'),\n",
        "    ]"
      ],
      "execution_count": null,
      "outputs": []
    },
    {
      "cell_type": "code",
      "metadata": {
        "trusted": true,
        "id": "MxsQqshMp6Ol",
        "colab": {
          "base_uri": "https://localhost:8080/",
          "height": 301
        },
        "outputId": "b4343d0c-d649-4bed-c61c-9bb256cc6019"
      },
      "source": [
        "# CUSTOM LEARNING SCHEUDLE - exponential\n",
        "lr_start = 0.000001\n",
        "lr_max = 0.00005*REPLICAS\n",
        "lr_min = 0.000001\n",
        "start_epoch = 0\n",
        "rampup_epoch = 10\n",
        "sustain_epoch = 10\n",
        "lr_exp_decay = 0.70\n",
        "\n",
        "def lrfn(epoch):\n",
        "    if epoch < start_epoch :\n",
        "        lr = lr_start\n",
        "    elif epoch < rampup_epoch :\n",
        "        lr = ((lr_max - lr_start)/(rampup_epoch - start_epoch))*(epoch - start_epoch) + lr_start\n",
        "    elif epoch < sustain_epoch :\n",
        "            lr = lr_max\n",
        "    else:\n",
        "            lr = lr_max*(lr_exp_decay**(epoch - sustain_epoch) + lr_min)\n",
        "            \n",
        "    return round(lr, 7)\n",
        "\n",
        "lr_schedule = tf.keras.callbacks.LearningRateScheduler(lrfn, verbose = 1)\n",
        "\n",
        "rng = [i for i in range(25)]\n",
        "y = [lrfn(x) for x in rng]\n",
        "plt.plot(rng, y); \n",
        "plt.xlabel('epoch',size = 14); plt.ylabel('learning rate',size = 14)\n",
        "plt.title('Training Schedule', size = 16); plt.show()"
      ],
      "execution_count": null,
      "outputs": [
        {
          "output_type": "display_data",
          "data": {
            "image/png": "[encoded data removed]",
            "text/plain": [
              "<Figure size 432x288 with 1 Axes>"
            ]
          },
          "metadata": {
            "tags": [],
            "needs_background": "light"
          }
        }
      ]
    },
    {
      "cell_type": "code",
      "metadata": {
        "trusted": true,
        "id": "HdbVCiIvp6On",
        "colab": {
          "base_uri": "https://localhost:8080/",
          "height": 52
        },
        "outputId": "06b52ed3-9d49-4d54-8272-db91d5acee85"
      },
      "source": [
        "checkpoint_path = 'weights-%i-{epoch:02d}-{val_auc:.3f}.h5'%FOLD_SELECT\n",
        "checkpoint_dir = os.path.dirname(checkpoint_path)\n",
        "\n",
        "checkpoint = tf.keras.callbacks.ModelCheckpoint(checkpoint_path,\n",
        "                                                monitor = 'val_auc',\n",
        "                                                verbose = 1,\n",
        "                                                save_weights_only = True,\n",
        "                                                period = 5)"
      ],
      "execution_count": null,
      "outputs": [
        {
          "output_type": "stream",
          "text": [
            "WARNING:tensorflow:`period` argument is deprecated. Please use `save_freq` to specify the frequency in number of batches seen.\n"
          ],
          "name": "stdout"
        },
        {
          "output_type": "stream",
          "text": [
            "WARNING:tensorflow:`period` argument is deprecated. Please use `save_freq` to specify the frequency in number of batches seen.\n"
          ],
          "name": "stderr"
        }
      ]
    },
    {
      "cell_type": "code",
      "metadata": {
        "trusted": true,
        "id": "rut4N7--p6Op",
        "colab": {
          "base_uri": "https://localhost:8080/",
          "height": 901
        },
        "outputId": "9635a6bd-c587-4b5c-d0bc-dac92cc50e60"
      },
      "source": [
        "def build_model():\n",
        "    with strategy.scope():\n",
        "        eff_model = effnet[NET_SELECT](\n",
        "            input_shape = (*IMAGE_SIZE, 3),\n",
        "            weights = WEIGHTS,\n",
        "            include_top = False\n",
        "        )\n",
        "        eff_model.trainable = True\n",
        "        \n",
        "        CNN_inp = L.Input(shape = (*IMAGE_SIZE, 3), name = 'CNN_inp')\n",
        "        TAB_inp = L.Input(shape = (N_TAB_FEATS), name = 'TAB_inp')\n",
        "        \n",
        "        x = eff_model(CNN_inp)\n",
        "        x = L.GlobalMaxPooling2D()(x)\n",
        "        x = L.Dense(1024, activation = 'relu')(x)\n",
        "        x = L.Dropout(0.3)(x)\n",
        "        x = L.Dense(512, activation = 'relu')(x)\n",
        "        x = L.Dropout(0.2)(x)\n",
        "        x = L.Dense(256, activation ='relu')(x)\n",
        "        x = L.Dropout(0.2)(x)\n",
        "        x = L.Dense(128, activation ='relu')(x)\n",
        "        x = L.Dropout(0.1)(x)\n",
        "        x = L.Dense(30, activation ='relu')(x)\n",
        "        x = L.Dropout(0.1)(x)\n",
        "        \n",
        "        y = L.Dense(8, activation = 'relu')(TAB_inp)\n",
        "        y = L.Dropout(0.1)(y)\n",
        "        y = L.Dense(2, activation ='relu')(y)\n",
        "        y = L.Dropout(0.1)(y)\n",
        "        \n",
        "        combine = L.concatenate([y, x])\n",
        "        \n",
        "        output = L.Dense(1, activation ='sigmoid',\n",
        "                         bias_initializer = tf.keras.initializers.Constant(initial_bias),\n",
        "                         name = 'output')(combine)\n",
        "        \n",
        "        model = tf.keras.models.Model(inputs = [CNN_inp, TAB_inp], outputs = [output])\n",
        "    \n",
        "    return model\n",
        "\n",
        "model = build_model()\n",
        "\n",
        "model.summary()"
      ],
      "execution_count": null,
      "outputs": [
        {
          "output_type": "stream",
          "text": [
            "Downloading data from https://github.com/qubvel/efficientnet/releases/download/v0.0.1/efficientnet-b4_noisy-student_notop.h5\n",
            "71680000/71678424 [==============================] - 1s 0us/step\n",
            "Model: \"model\"\n",
            "__________________________________________________________________________________________________\n",
            "Layer (type)                    Output Shape         Param #     Connected to                     \n",
            "==================================================================================================\n",
            "CNN_inp (InputLayer)            [(None, 512, 512, 3) 0                                            \n",
            "__________________________________________________________________________________________________\n",
            "efficientnet-b4 (Model)         (None, 16, 16, 1792) 17673816    CNN_inp[0][0]                    \n",
            "__________________________________________________________________________________________________\n",
            "global_max_pooling2d (GlobalMax (None, 1792)         0           efficientnet-b4[1][0]            \n",
            "__________________________________________________________________________________________________\n",
            "dense (Dense)                   (None, 1024)         1836032     global_max_pooling2d[0][0]       \n",
            "__________________________________________________________________________________________________\n",
            "dropout (Dropout)               (None, 1024)         0           dense[0][0]                      \n",
            "__________________________________________________________________________________________________\n",
            "dense_1 (Dense)                 (None, 512)          524800      dropout[0][0]                    \n",
            "__________________________________________________________________________________________________\n",
            "dropout_1 (Dropout)             (None, 512)          0           dense_1[0][0]                    \n",
            "__________________________________________________________________________________________________\n",
            "dense_2 (Dense)                 (None, 256)          131328      dropout_1[0][0]                  \n",
            "__________________________________________________________________________________________________\n",
            "TAB_inp (InputLayer)            [(None, 2)]          0                                            \n",
            "__________________________________________________________________________________________________\n",
            "dropout_2 (Dropout)             (None, 256)          0           dense_2[0][0]                    \n",
            "__________________________________________________________________________________________________\n",
            "dense_5 (Dense)                 (None, 8)            24          TAB_inp[0][0]                    \n",
            "__________________________________________________________________________________________________\n",
            "dense_3 (Dense)                 (None, 128)          32896       dropout_2[0][0]                  \n",
            "__________________________________________________________________________________________________\n",
            "dropout_5 (Dropout)             (None, 8)            0           dense_5[0][0]                    \n",
            "__________________________________________________________________________________________________\n",
            "dropout_3 (Dropout)             (None, 128)          0           dense_3[0][0]                    \n",
            "__________________________________________________________________________________________________\n",
            "dense_6 (Dense)                 (None, 2)            18          dropout_5[0][0]                  \n",
            "__________________________________________________________________________________________________\n",
            "dense_4 (Dense)                 (None, 30)           3870        dropout_3[0][0]                  \n",
            "__________________________________________________________________________________________________\n",
            "dropout_6 (Dropout)             (None, 2)            0           dense_6[0][0]                    \n",
            "__________________________________________________________________________________________________\n",
            "dropout_4 (Dropout)             (None, 30)           0           dense_4[0][0]                    \n",
            "__________________________________________________________________________________________________\n",
            "concatenate (Concatenate)       (None, 32)           0           dropout_6[0][0]                  \n",
            "                                                                 dropout_4[0][0]                  \n",
            "__________________________________________________________________________________________________\n",
            "output (Dense)                  (None, 1)            33          concatenate[0][0]                \n",
            "==================================================================================================\n",
            "Total params: 20,202,817\n",
            "Trainable params: 20,077,617\n",
            "Non-trainable params: 125,200\n",
            "__________________________________________________________________________________________________\n"
          ],
          "name": "stdout"
        }
      ]
    },
    {
      "cell_type": "code",
      "metadata": {
        "trusted": true,
        "id": "LiWeU0qjp6Or"
      },
      "source": [
        "model.compile(\n",
        "    optimizer = 'adam',\n",
        "    loss = tfa.losses.SigmoidFocalCrossEntropy(gamma = 5.0, alpha = 0.2),\n",
        "    metrics = METRICS\n",
        ")"
      ],
      "execution_count": null,
      "outputs": []
    },
    {
      "cell_type": "code",
      "metadata": {
        "trusted": true,
        "id": "VKb4_2tcp6Ov",
        "colab": {
          "base_uri": "https://localhost:8080/",
          "height": 1000
        },
        "outputId": "8a173d71-9650-4618-db80-c58e89e111ea"
      },
      "source": [
        "history = model.fit(\n",
        "    get_training_dataset(), \n",
        "    epochs = EPOCHS, \n",
        "    initial_epoch = INITIAL_EPOCH,\n",
        "    steps_per_epoch = STEPS_PER_EPOCH,\n",
        "    class_weight = classweights,\n",
        "    validation_data = get_validation_dataset(),\n",
        "    callbacks = [lr_schedule, checkpoint]\n",
        ")"
      ],
      "execution_count": null,
      "outputs": [
        {
          "output_type": "stream",
          "text": [
            "\n",
            "Epoch 00001: LearningRateScheduler reducing learning rate to 1e-06.\n",
            "Epoch 1/25\n",
            "609/609 [==============================] - 260s 427ms/step - auc: 0.5067 - loss: 0.1652 - tp: 401.0000 - fn: 1635.0000 - val_auc: 0.5652 - val_loss: 0.0061 - val_tp: 0.0000e+00 - val_fn: 116.0000 - lr: 1.0000e-06\n",
            "\n",
            "Epoch 00002: LearningRateScheduler reducing learning rate to 4.09e-05.\n",
            "Epoch 2/25\n",
            "609/609 [==============================] - 231s 380ms/step - auc: 0.5332 - loss: 0.0354 - tp: 353.0000 - fn: 1779.0000 - val_auc: 0.6056 - val_loss: 0.0015 - val_tp: 0.0000e+00 - val_fn: 116.0000 - lr: 4.0900e-05\n",
            "\n",
            "Epoch 00003: LearningRateScheduler reducing learning rate to 8.08e-05.\n",
            "Epoch 3/25\n",
            "609/609 [==============================] - 232s 382ms/step - auc: 0.5833 - loss: 0.0143 - tp: 381.0000 - fn: 1715.0000 - val_auc: 0.6761 - val_loss: 0.0013 - val_tp: 0.0000e+00 - val_fn: 116.0000 - lr: 8.0800e-05\n",
            "\n",
            "Epoch 00004: LearningRateScheduler reducing learning rate to 0.0001207.\n",
            "Epoch 4/25\n",
            "609/609 [==============================] - 232s 381ms/step - auc: 0.6337 - loss: 0.0111 - tp: 485.0000 - fn: 1671.0000 - val_auc: 0.7254 - val_loss: 0.0012 - val_tp: 0.0000e+00 - val_fn: 116.0000 - lr: 1.2070e-04\n",
            "\n",
            "Epoch 00005: LearningRateScheduler reducing learning rate to 0.0001606.\n",
            "Epoch 5/25\n",
            "609/609 [==============================] - ETA: 0s - auc: 0.6641 - loss: 0.0097 - tp: 495.0000 - fn: 1594.0000\n",
            "Epoch 00005: saving model to weights-3-05-0.717.h5\n",
            "609/609 [==============================] - 236s 387ms/step - auc: 0.6641 - loss: 0.0097 - tp: 495.0000 - fn: 1594.0000 - val_auc: 0.7174 - val_loss: 0.0013 - val_tp: 0.0000e+00 - val_fn: 116.0000 - lr: 1.6060e-04\n",
            "\n",
            "Epoch 00006: LearningRateScheduler reducing learning rate to 0.0002005.\n",
            "Epoch 6/25\n",
            "609/609 [==============================] - 233s 383ms/step - auc: 0.6927 - loss: 0.0087 - tp: 517.0000 - fn: 1602.0000 - val_auc: 0.7648 - val_loss: 0.0012 - val_tp: 0.0000e+00 - val_fn: 116.0000 - lr: 2.0050e-04\n",
            "\n",
            "Epoch 00007: LearningRateScheduler reducing learning rate to 0.0002404.\n",
            "Epoch 7/25\n",
            "609/609 [==============================] - 233s 382ms/step - auc: 0.7191 - loss: 0.0081 - tp: 544.0000 - fn: 1550.0000 - val_auc: 0.8214 - val_loss: 0.0013 - val_tp: 0.0000e+00 - val_fn: 116.0000 - lr: 2.4040e-04\n",
            "\n",
            "Epoch 00008: LearningRateScheduler reducing learning rate to 0.0002803.\n",
            "Epoch 8/25\n",
            "609/609 [==============================] - 233s 383ms/step - auc: 0.7315 - loss: 0.0078 - tp: 559.0000 - fn: 1575.0000 - val_auc: 0.7931 - val_loss: 0.0014 - val_tp: 0.0000e+00 - val_fn: 116.0000 - lr: 2.8030e-04\n",
            "\n",
            "Epoch 00009: LearningRateScheduler reducing learning rate to 0.0003202.\n",
            "Epoch 9/25\n",
            "609/609 [==============================] - 233s 382ms/step - auc: 0.7375 - loss: 0.0073 - tp: 516.0000 - fn: 1587.0000 - val_auc: 0.8026 - val_loss: 0.0013 - val_tp: 0.0000e+00 - val_fn: 116.0000 - lr: 3.2020e-04\n",
            "\n",
            "Epoch 00010: LearningRateScheduler reducing learning rate to 0.0003601.\n",
            "Epoch 10/25\n",
            "609/609 [==============================] - ETA: 0s - auc: 0.7450 - loss: 0.0071 - tp: 537.0000 - fn: 1592.0000\n",
            "Epoch 00010: saving model to weights-3-10-0.809.h5\n",
            "609/609 [==============================] - 236s 388ms/step - auc: 0.7450 - loss: 0.0071 - tp: 537.0000 - fn: 1592.0000 - val_auc: 0.8089 - val_loss: 0.0011 - val_tp: 0.0000e+00 - val_fn: 116.0000 - lr: 3.6010e-04\n",
            "\n",
            "Epoch 00011: LearningRateScheduler reducing learning rate to 0.0004.\n",
            "Epoch 11/25\n",
            "609/609 [==============================] - 233s 382ms/step - auc: 0.7507 - loss: 0.0069 - tp: 550.0000 - fn: 1553.0000 - val_auc: 0.8390 - val_loss: 0.0011 - val_tp: 0.0000e+00 - val_fn: 116.0000 - lr: 4.0000e-04\n",
            "\n",
            "Epoch 00012: LearningRateScheduler reducing learning rate to 0.00028.\n",
            "Epoch 12/25\n",
            "609/609 [==============================] - 232s 381ms/step - auc: 0.7677 - loss: 0.0064 - tp: 539.0000 - fn: 1590.0000 - val_auc: 0.8467 - val_loss: 0.0011 - val_tp: 0.0000e+00 - val_fn: 116.0000 - lr: 2.8000e-04\n",
            "\n",
            "Epoch 00013: LearningRateScheduler reducing learning rate to 0.000196.\n",
            "Epoch 13/25\n",
            "609/609 [==============================] - 233s 382ms/step - auc: 0.7951 - loss: 0.0060 - tp: 598.0000 - fn: 1526.0000 - val_auc: 0.8492 - val_loss: 0.0011 - val_tp: 0.0000e+00 - val_fn: 116.0000 - lr: 1.9600e-04\n",
            "\n",
            "Epoch 00014: LearningRateScheduler reducing learning rate to 0.0001372.\n",
            "Epoch 14/25\n",
            "609/609 [==============================] - 233s 382ms/step - auc: 0.8016 - loss: 0.0058 - tp: 593.0000 - fn: 1512.0000 - val_auc: 0.8523 - val_loss: 0.0010 - val_tp: 0.0000e+00 - val_fn: 116.0000 - lr: 1.3720e-04\n",
            "\n",
            "Epoch 00015: LearningRateScheduler reducing learning rate to 9.6e-05.\n",
            "Epoch 15/25\n",
            "609/609 [==============================] - ETA: 0s - auc: 0.8059 - loss: 0.0058 - tp: 578.0000 - fn: 1538.0000\n",
            "Epoch 00015: saving model to weights-3-15-0.859.h5\n",
            "609/609 [==============================] - 236s 387ms/step - auc: 0.8059 - loss: 0.0058 - tp: 578.0000 - fn: 1538.0000 - val_auc: 0.8593 - val_loss: 0.0010 - val_tp: 0.0000e+00 - val_fn: 116.0000 - lr: 9.6000e-05\n",
            "\n",
            "Epoch 00016: LearningRateScheduler reducing learning rate to 6.72e-05.\n",
            "Epoch 16/25\n",
            "609/609 [==============================] - 233s 383ms/step - auc: 0.8193 - loss: 0.0055 - tp: 609.0000 - fn: 1484.0000 - val_auc: 0.8491 - val_loss: 0.0011 - val_tp: 0.0000e+00 - val_fn: 116.0000 - lr: 6.7200e-05\n",
            "\n",
            "Epoch 00017: LearningRateScheduler reducing learning rate to 4.71e-05.\n",
            "Epoch 17/25\n",
            "609/609 [==============================] - 233s 383ms/step - auc: 0.8128 - loss: 0.0057 - tp: 618.0000 - fn: 1511.0000 - val_auc: 0.8497 - val_loss: 0.0010 - val_tp: 0.0000e+00 - val_fn: 116.0000 - lr: 4.7100e-05\n",
            "\n",
            "Epoch 00018: LearningRateScheduler reducing learning rate to 3.29e-05.\n",
            "Epoch 18/25\n",
            "609/609 [==============================] - 233s 383ms/step - auc: 0.8169 - loss: 0.0056 - tp: 624.0000 - fn: 1495.0000 - val_auc: 0.8528 - val_loss: 0.0010 - val_tp: 0.0000e+00 - val_fn: 116.0000 - lr: 3.2900e-05\n",
            "\n",
            "Epoch 00019: LearningRateScheduler reducing learning rate to 2.31e-05.\n",
            "Epoch 19/25\n",
            "609/609 [==============================] - 234s 384ms/step - auc: 0.8292 - loss: 0.0053 - tp: 665.0000 - fn: 1440.0000 - val_auc: 0.8482 - val_loss: 0.0010 - val_tp: 0.0000e+00 - val_fn: 116.0000 - lr: 2.3100e-05\n",
            "\n",
            "Epoch 00020: LearningRateScheduler reducing learning rate to 1.61e-05.\n",
            "Epoch 20/25\n",
            "609/609 [==============================] - ETA: 0s - auc: 0.8231 - loss: 0.0055 - tp: 662.0000 - fn: 1473.0000\n",
            "Epoch 00020: saving model to weights-3-20-0.848.h5\n",
            "609/609 [==============================] - 237s 389ms/step - auc: 0.8231 - loss: 0.0055 - tp: 662.0000 - fn: 1473.0000 - val_auc: 0.8477 - val_loss: 0.0010 - val_tp: 0.0000e+00 - val_fn: 116.0000 - lr: 1.6100e-05\n",
            "\n",
            "Epoch 00021: LearningRateScheduler reducing learning rate to 1.13e-05.\n",
            "Epoch 21/25\n",
            "609/609 [==============================] - 234s 384ms/step - auc: 0.8277 - loss: 0.0054 - tp: 623.0000 - fn: 1476.0000 - val_auc: 0.8508 - val_loss: 0.0010 - val_tp: 0.0000e+00 - val_fn: 116.0000 - lr: 1.1300e-05\n",
            "\n",
            "Epoch 00022: LearningRateScheduler reducing learning rate to 7.9e-06.\n",
            "Epoch 22/25\n",
            "609/609 [==============================] - 234s 385ms/step - auc: 0.8316 - loss: 0.0054 - tp: 648.0000 - fn: 1490.0000 - val_auc: 0.8500 - val_loss: 0.0010 - val_tp: 0.0000e+00 - val_fn: 116.0000 - lr: 7.9000e-06\n",
            "\n",
            "Epoch 00023: LearningRateScheduler reducing learning rate to 5.5e-06.\n",
            "Epoch 23/25\n",
            "609/609 [==============================] - 234s 384ms/step - auc: 0.8288 - loss: 0.0053 - tp: 643.0000 - fn: 1445.0000 - val_auc: 0.8510 - val_loss: 0.0010 - val_tp: 0.0000e+00 - val_fn: 116.0000 - lr: 5.5000e-06\n",
            "\n",
            "Epoch 00024: LearningRateScheduler reducing learning rate to 3.9e-06.\n",
            "Epoch 24/25\n",
            "609/609 [==============================] - 233s 383ms/step - auc: 0.8229 - loss: 0.0055 - tp: 620.0000 - fn: 1509.0000 - val_auc: 0.8506 - val_loss: 0.0010 - val_tp: 0.0000e+00 - val_fn: 116.0000 - lr: 3.9000e-06\n",
            "\n",
            "Epoch 00025: LearningRateScheduler reducing learning rate to 2.7e-06.\n",
            "Epoch 25/25\n",
            "609/609 [==============================] - ETA: 0s - auc: 0.8246 - loss: 0.0054 - tp: 647.0000 - fn: 1451.0000\n",
            "Epoch 00025: saving model to weights-3-25-0.851.h5\n",
            "609/609 [==============================] - 236s 388ms/step - auc: 0.8246 - loss: 0.0054 - tp: 647.0000 - fn: 1451.0000 - val_auc: 0.8514 - val_loss: 0.0010 - val_tp: 0.0000e+00 - val_fn: 116.0000 - lr: 2.7000e-06\n"
          ],
          "name": "stdout"
        }
      ]
    },
    {
      "cell_type": "code",
      "metadata": {
        "trusted": true,
        "id": "ihVaGqNHp6Ox"
      },
      "source": [
        "pd.DataFrame.from_dict(history.history).to_csv('history_fold-%i_' %FOLD_SELECT + num_str + '.csv', index = False)"
      ],
      "execution_count": null,
      "outputs": []
    },
    {
      "cell_type": "code",
      "metadata": {
        "trusted": true,
        "id": "fvMpIvccp6Oz",
        "colab": {
          "base_uri": "https://localhost:8080/",
          "height": 333
        },
        "outputId": "af863cbf-ceeb-400b-c4f3-97153ceeb960"
      },
      "source": [
        "colors = plt.rcParams['axes.prop_cycle'].by_key()['color']\n",
        "mpl.rcParams['figure.figsize'] = (12, 10)\n",
        "\n",
        "def plot_metrics(history):\n",
        "  metrics =  ['loss', 'auc']\n",
        "  for n, metric in enumerate(metrics):\n",
        "    name = metric.replace(\"_\",\" \").capitalize()\n",
        "    plt.subplot(2, 2, n + 1)\n",
        "    \n",
        "    plt.plot(history.epoch, history.history[metric], color = colors[0], label = 'Train')\n",
        "    plt.plot(history.epoch, history.history['val_' + metric], color = colors[0], linestyle = \"--\", label = 'Val')\n",
        "    \n",
        "    plt.xlabel('Epoch')\n",
        "    plt.ylabel(name)\n",
        "    \n",
        "    if metric == 'loss':\n",
        "        plt.ylim([0, plt.ylim()[1]])\n",
        "        \n",
        "    elif metric == 'auc':\n",
        "        plt.ylim([0.0,1])\n",
        "        \n",
        "    plt.legend()\n",
        "    plt.tight_layout(pad = 5)\n",
        "\n",
        "plot_metrics(history)"
      ],
      "execution_count": null,
      "outputs": [
        {
          "output_type": "display_data",
          "data": {
            "image/png": "[encoded data removed]",
            "text/plain": [
              "<Figure size 864x720 with 2 Axes>"
            ]
          },
          "metadata": {
            "tags": [],
            "needs_background": "light"
          }
        }
      ]
    },
    {
      "cell_type": "code",
      "metadata": {
        "trusted": true,
        "id": "OLP0veJ4p6O0",
        "colab": {
          "base_uri": "https://localhost:8080/",
          "height": 35
        },
        "outputId": "f457accf-dd46-4441-ca26-e799f599fa24"
      },
      "source": [
        "if FOLD_SELECT >= 0:\n",
        "    STEPS = TTA*NUM_TEST_IMAGES/BATCH_SIZE\n",
        "    testtf = get_test_dataset()\n",
        "    test_images_ds = testtf.map(lambda data, image_name : data)\n",
        "\n",
        "    pred = model.predict(test_images_ds, steps = STEPS, verbose = 1)[:TTA*NUM_TEST_IMAGES, ] \n",
        "\n",
        "    preds = np.zeros((NUM_TEST_IMAGES, 1))\n",
        "    preds[:, 0] = np.mean(pred.reshape((NUM_TEST_IMAGES, TTA), order = 'F'), axis = 1)\n",
        "\n",
        "    test_ids_ds = testtf.map(lambda image, image_name : image_name).unbatch()\n",
        "    test_ids = next(iter(test_ids_ds.batch(NUM_TEST_IMAGES))).numpy().astype('U') # all in one batch\n",
        "\n",
        "    submission = pd.DataFrame(dict(image_name = test_ids, target = preds[:, 0]))\n",
        "    submission = submission.sort_values('image_name') \n",
        "    submission.to_csv('submission_fold-%i_' %FOLD_SELECT + num_str + 'TTA-10.csv' , index = False)"
      ],
      "execution_count": null,
      "outputs": [
        {
          "output_type": "stream",
          "text": [
            "1716/1715 [==============================] - 194s 113ms/step\n"
          ],
          "name": "stdout"
        }
      ]
    },
    {
      "cell_type": "code",
      "metadata": {
        "trusted": true,
        "id": "ghtewFzsp6O1",
        "colab": {
          "base_uri": "https://localhost:8080/",
          "height": 415
        },
        "outputId": "4aaed2d3-496f-4756-c577-7ae68d41c017"
      },
      "source": [
        "submission"
      ],
      "execution_count": null,
      "outputs": [
        {
          "output_type": "execute_result",
          "data": {
            "text/html": [
              "<div>\n",
              "<style scoped>\n",
              "    .dataframe tbody tr th:only-of-type {\n",
              "        vertical-align: middle;\n",
              "    }\n",
              "\n",
              "    .dataframe tbody tr th {\n",
              "        vertical-align: top;\n",
              "    }\n",
              "\n",
              "    .dataframe thead th {\n",
              "        text-align: right;\n",
              "    }\n",
              "</style>\n",
              "<table border=\"1\" class=\"dataframe\">\n",
              "  <thead>\n",
              "    <tr style=\"text-align: right;\">\n",
              "      <th></th>\n",
              "      <th>image_name</th>\n",
              "      <th>target</th>\n",
              "    </tr>\n",
              "  </thead>\n",
              "  <tbody>\n",
              "    <tr>\n",
              "      <th>9905</th>\n",
              "      <td>ISIC_0052060</td>\n",
              "      <td>0.262988</td>\n",
              "    </tr>\n",
              "    <tr>\n",
              "      <th>1443</th>\n",
              "      <td>ISIC_0052349</td>\n",
              "      <td>0.241960</td>\n",
              "    </tr>\n",
              "    <tr>\n",
              "      <th>3120</th>\n",
              "      <td>ISIC_0058510</td>\n",
              "      <td>0.242915</td>\n",
              "    </tr>\n",
              "    <tr>\n",
              "      <th>4870</th>\n",
              "      <td>ISIC_0073313</td>\n",
              "      <td>0.213293</td>\n",
              "    </tr>\n",
              "    <tr>\n",
              "      <th>5494</th>\n",
              "      <td>ISIC_0073502</td>\n",
              "      <td>0.273679</td>\n",
              "    </tr>\n",
              "    <tr>\n",
              "      <th>...</th>\n",
              "      <td>...</td>\n",
              "      <td>...</td>\n",
              "    </tr>\n",
              "    <tr>\n",
              "      <th>5994</th>\n",
              "      <td>ISIC_9992485</td>\n",
              "      <td>0.262364</td>\n",
              "    </tr>\n",
              "    <tr>\n",
              "      <th>3980</th>\n",
              "      <td>ISIC_9996992</td>\n",
              "      <td>0.270393</td>\n",
              "    </tr>\n",
              "    <tr>\n",
              "      <th>6974</th>\n",
              "      <td>ISIC_9997917</td>\n",
              "      <td>0.299268</td>\n",
              "    </tr>\n",
              "    <tr>\n",
              "      <th>1278</th>\n",
              "      <td>ISIC_9998234</td>\n",
              "      <td>0.251556</td>\n",
              "    </tr>\n",
              "    <tr>\n",
              "      <th>3384</th>\n",
              "      <td>ISIC_9999302</td>\n",
              "      <td>0.282560</td>\n",
              "    </tr>\n",
              "  </tbody>\n",
              "</table>\n",
              "<p>10982 rows × 2 columns</p>\n",
              "</div>"
            ],
            "text/plain": [
              "        image_name    target\n",
              "9905  ISIC_0052060  0.262988\n",
              "1443  ISIC_0052349  0.241960\n",
              "3120  ISIC_0058510  0.242915\n",
              "4870  ISIC_0073313  0.213293\n",
              "5494  ISIC_0073502  0.273679\n",
              "...            ...       ...\n",
              "5994  ISIC_9992485  0.262364\n",
              "3980  ISIC_9996992  0.270393\n",
              "6974  ISIC_9997917  0.299268\n",
              "1278  ISIC_9998234  0.251556\n",
              "3384  ISIC_9999302  0.282560\n",
              "\n",
              "[10982 rows x 2 columns]"
            ]
          },
          "metadata": {
            "tags": []
          },
          "execution_count": 38
        }
      ]
    },
    {
      "cell_type": "code",
      "metadata": {
        "id": "bJmZ0o5lVV8R",
        "colab": {
          "base_uri": "https://localhost:8080/",
          "height": 260
        },
        "outputId": "6bf94373-1d33-4a9e-a7d9-2cc3e22ab6b1"
      },
      "source": [
        "%ls"
      ],
      "execution_count": null,
      "outputs": [
        {
          "output_type": "stream",
          "text": [
            "history_fold-0_model-b4_.csv           weights-1-10-0.900.h5\n",
            "history_fold-1_model-b4_.csv           weights-1-15-0.908.h5\n",
            "history_fold-2_model-b4_.csv           weights-1-20-0.920.h5\n",
            "history_fold-3_model-b4_.csv           weights-1-25-0.923.h5\n",
            "submission_fold-0_model-b4_TTA-10.csv  weights-2-05-0.799.h5\n",
            "submission_fold-1_model-b4_TTA-10.csv  weights-2-10-0.872.h5\n",
            "submission_fold-2_model-b4_TTA-10.csv  weights-2-15-0.908.h5\n",
            "submission_fold-3_model-b4_TTA-10.csv  weights-2-20-0.913.h5\n",
            "weights-0-05-0.814.h5                  weights-2-25-0.914.h5\n",
            "weights-0-10-0.862.h5                  weights-3-05-0.717.h5\n",
            "weights-0-15-0.870.h5                  weights-3-10-0.809.h5\n",
            "weights-0-20-0.890.h5                  weights-3-15-0.859.h5\n",
            "weights-0-25-0.899.h5                  weights-3-20-0.848.h5\n",
            "weights-1-05-0.795.h5                  weights-3-25-0.851.h5\n"
          ],
          "name": "stdout"
        }
      ]
    }
  ]
}