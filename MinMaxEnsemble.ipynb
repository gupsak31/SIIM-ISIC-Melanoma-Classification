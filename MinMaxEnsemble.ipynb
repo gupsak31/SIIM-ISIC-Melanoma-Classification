{
  "nbformat": 4,
  "nbformat_minor": 0,
  "metadata": {
    "colab": {
      "name": "MinMaxEnsemble.ipynb",
      "provenance": [],
      "collapsed_sections": []
    },
    "kernelspec": {
      "name": "python3",
      "display_name": "Python 3"
    }
  },
  "cells": [
    {
      "cell_type": "code",
      "metadata": {
        "id": "G5Mfk36V9W08"
      },
      "source": [
        "# set up cutoff threshold for lower and upper bounds\n",
        "cutoff_lo = 0.7\n",
        "cutoff_hi = 0.10"
      ],
      "execution_count": null,
      "outputs": []
    },
    {
      "cell_type": "code",
      "metadata": {
        "id": "Ch_vXLpK9T5q"
      },
      "source": [
        "import numpy as np\n",
        "import pandas as pd \n",
        "import os\n",
        "\n",
        "import matplotlib.pyplot as plt"
      ],
      "execution_count": null,
      "outputs": []
    },
    {
      "cell_type": "code",
      "metadata": {
        "id": "8l4io5_YLh6S",
        "colab": {
          "base_uri": "https://localhost:8080/",
          "height": 35
        },
        "outputId": "9b4c067c-cc54-47d9-c11f-678b9a3effb0"
      },
      "source": [
        "from google.colab import drive\n",
        "drive.mount('/content/gdrive')"
      ],
      "execution_count": null,
      "outputs": [
        {
          "output_type": "stream",
          "text": [
            "Drive already mounted at /content/gdrive; to attempt to forcibly remount, call drive.mount(\"/content/gdrive\", force_remount=True).\n"
          ],
          "name": "stdout"
        }
      ]
    },
    {
      "cell_type": "code",
      "metadata": {
        "id": "yXSCxH5qLno4",
        "colab": {
          "base_uri": "https://localhost:8080/",
          "height": 173
        },
        "outputId": "74a52cb1-a0ca-4e72-9057-9ca1b18cdc3a"
      },
      "source": [
        "%cd /content/gdrive/My Drive/\n",
        "%ls"
      ],
      "execution_count": null,
      "outputs": [
        {
          "output_type": "stream",
          "text": [
            "/content/gdrive/My Drive\n",
            " 170613.pdf              \u001b[0m\u001b[01;34mkaggle\u001b[0m/                     submission_imagesize.csv\n",
            "'Coding Problems.gdoc'   model_1_customsize.csv      submission_minmax_6_1.csv\n",
            "\u001b[01;34m'Colab Notebooks'\u001b[0m/       model_1_imagesize.csv       submission_minmax_6.csv\n",
            "'DP Problems.gdoc'      \u001b[01;34m'MVP Experiment'\u001b[0m/            submission_minmax_75_1.csv\n",
            " \u001b[01;34mF3\u001b[0m/                     public_all_included.csv     submission_minmax_8_2.csv\n",
            " \u001b[01;34mFinal\u001b[0m/                  public_only_best_ones.csv   submission_minmax.csv\n",
            " \u001b[01;34mFsub1\u001b[0m/                  submission1.csv\n",
            " \u001b[01;34mFsub2\u001b[0m/                  submission_customsize.csv\n"
          ],
          "name": "stdout"
        }
      ]
    },
    {
      "cell_type": "code",
      "metadata": {
        "id": "UOdEt9YU8mmv"
      },
      "source": [
        "def MinMaxBestBaseStacking(input_folder, best_base, output_path):\n",
        "    sub_base = pd.read_csv(best_base)\n",
        "    all_files = os.listdir(input_folder)\n",
        "\n",
        "    # Read and concatenate submissions\n",
        "    outs = [pd.read_csv(os.path.join(input_folder, f), index_col = 0) for f in all_files]\n",
        "    concat_sub = pd.concat(outs, axis = 1)\n",
        "    cols = list(map(lambda x: \"target\" + str(x), range(len(concat_sub.columns))))\n",
        "    concat_sub.columns = cols\n",
        "    concat_sub.reset_index(inplace = True)\n",
        "\n",
        "    # get the data fields ready for stacking\n",
        "    concat_sub['is_iceberg_max'] = concat_sub.iloc[:, 1:5].max(axis = 1)\n",
        "    concat_sub['is_iceberg_min'] = concat_sub.iloc[:, 1:5].min(axis = 1)\n",
        "    concat_sub['is_iceberg_mean'] = concat_sub.iloc[:, 1:5].mean(axis = 1)\n",
        "    concat_sub['is_iceberg_median'] = concat_sub.iloc[:, 1:5].median(axis = 1)\n",
        "\n",
        "    concat_sub['is_iceberg_base'] = sub_base['target']\n",
        "\n",
        "    concat_sub['target'] = np.where(np.all(concat_sub.iloc[:, 1:5] > cutoff_lo, axis = 1),\n",
        "                                    concat_sub['is_iceberg_max'],\n",
        "                                    np.where(np.all(concat_sub.iloc[:, 1:5] < cutoff_hi, axis=1),\n",
        "                                             concat_sub['is_iceberg_min'],\n",
        "                                             concat_sub['is_iceberg_base']))\n",
        "    \n",
        "    plt.hist(concat_sub['target'], bins = 500)\n",
        "    plt.show()\n",
        "\n",
        "    concat_sub[['image_name', 'target']].to_csv(output_path, index = False, float_format = '%.12f')"
      ],
      "execution_count": null,
      "outputs": []
    },
    {
      "cell_type": "code",
      "metadata": {
        "id": "sO76s2_i9Inr",
        "colab": {
          "base_uri": "https://localhost:8080/",
          "height": 265
        },
        "outputId": "beaf82ec-abd6-4000-8c25-184a1ac8ff15"
      },
      "source": [
        "MinMaxBestBaseStacking('Fsub1/', 'model_1_imagesize.csv', 'submission2.csv')"
      ],
      "execution_count": null,
      "outputs": [
        {
          "output_type": "display_data",
          "data": {
            "image/png": "[encoded data removed]",
            "text/plain": [
              "<Figure size 432x288 with 1 Axes>"
            ]
          },
          "metadata": {
            "tags": [],
            "needs_background": "light"
          }
        }
      ]
    },
    {
      "cell_type": "code",
      "metadata": {
        "id": "0Db6MomLXrOU",
        "colab": {
          "base_uri": "https://localhost:8080/",
          "height": 52
        },
        "outputId": "8be7e649-ef0c-4562-bbc2-3ddff4f2075c"
      },
      "source": [
        "%ls F3/"
      ],
      "execution_count": null,
      "outputs": [
        {
          "output_type": "stream",
          "text": [
            "sube10.csv  sube12.csv  sube14.csv  sube2.csv  sube4.csv  sube6.csv  sube8.csv\n",
            "sube11.csv  sube13.csv  sube1.csv   sube3.csv  sube5.csv  sube7.csv  sube9.csv\n"
          ],
          "name": "stdout"
        }
      ]
    },
    {
      "cell_type": "code",
      "metadata": {
        "id": "5rS05M-SAzcO"
      },
      "source": [
        ""
      ],
      "execution_count": null,
      "outputs": []
    }
  ]
}